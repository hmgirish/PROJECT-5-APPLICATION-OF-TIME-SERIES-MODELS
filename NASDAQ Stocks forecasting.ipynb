{
 "cells": [
  {
   "cell_type": "code",
   "execution_count": 1,
   "metadata": {},
   "outputs": [],
   "source": [
    "import pandas as pd\n",
    "from pandas import datetime\n",
    "import matplotlib.pyplot as plt\n",
    "%matplotlib inline"
   ]
  },
  {
   "cell_type": "code",
   "execution_count": 2,
   "metadata": {},
   "outputs": [],
   "source": [
    "ds = pd.read_csv(\"data_stocks.csv\")"
   ]
  },
  {
   "cell_type": "code",
   "execution_count": 4,
   "metadata": {},
   "outputs": [
    {
     "data": {
      "text/plain": [
       "dtype('int64')"
      ]
     },
     "execution_count": 4,
     "metadata": {},
     "output_type": "execute_result"
    }
   ],
   "source": [
    "ds['DATE'].dtypes"
   ]
  },
  {
   "cell_type": "code",
   "execution_count": 5,
   "metadata": {},
   "outputs": [
    {
     "data": {
      "text/plain": [
       "41261   2017-08-31 19:56:00\n",
       "41262   2017-08-31 19:57:00\n",
       "41263   2017-08-31 19:58:00\n",
       "41264   2017-08-31 19:59:00\n",
       "41265   2017-08-31 20:00:00\n",
       "Name: DATE, dtype: datetime64[ns]"
      ]
     },
     "execution_count": 5,
     "metadata": {},
     "output_type": "execute_result"
    }
   ],
   "source": [
    "ds['DATE'] = pd.to_datetime(ds['DATE'], unit='s')\n",
    "\n",
    "ds['DATE'].tail()"
   ]
  },
  {
   "cell_type": "code",
   "execution_count": 6,
   "metadata": {},
   "outputs": [
    {
     "data": {
      "text/html": [
       "<div>\n",
       "<style scoped>\n",
       "    .dataframe tbody tr th:only-of-type {\n",
       "        vertical-align: middle;\n",
       "    }\n",
       "\n",
       "    .dataframe tbody tr th {\n",
       "        vertical-align: top;\n",
       "    }\n",
       "\n",
       "    .dataframe thead th {\n",
       "        text-align: right;\n",
       "    }\n",
       "</style>\n",
       "<table border=\"1\" class=\"dataframe\">\n",
       "  <thead>\n",
       "    <tr style=\"text-align: right;\">\n",
       "      <th></th>\n",
       "      <th>SP500</th>\n",
       "      <th>NASDAQ.AAL</th>\n",
       "      <th>NASDAQ.AAPL</th>\n",
       "      <th>NASDAQ.ADBE</th>\n",
       "      <th>NASDAQ.ADI</th>\n",
       "      <th>NASDAQ.ADP</th>\n",
       "      <th>NASDAQ.ADSK</th>\n",
       "      <th>NASDAQ.AKAM</th>\n",
       "      <th>NASDAQ.ALXN</th>\n",
       "      <th>NASDAQ.AMAT</th>\n",
       "      <th>...</th>\n",
       "      <th>NYSE.WYN</th>\n",
       "      <th>NYSE.XEC</th>\n",
       "      <th>NYSE.XEL</th>\n",
       "      <th>NYSE.XL</th>\n",
       "      <th>NYSE.XOM</th>\n",
       "      <th>NYSE.XRX</th>\n",
       "      <th>NYSE.XYL</th>\n",
       "      <th>NYSE.YUM</th>\n",
       "      <th>NYSE.ZBH</th>\n",
       "      <th>NYSE.ZTS</th>\n",
       "    </tr>\n",
       "    <tr>\n",
       "      <th>DATE</th>\n",
       "      <th></th>\n",
       "      <th></th>\n",
       "      <th></th>\n",
       "      <th></th>\n",
       "      <th></th>\n",
       "      <th></th>\n",
       "      <th></th>\n",
       "      <th></th>\n",
       "      <th></th>\n",
       "      <th></th>\n",
       "      <th></th>\n",
       "      <th></th>\n",
       "      <th></th>\n",
       "      <th></th>\n",
       "      <th></th>\n",
       "      <th></th>\n",
       "      <th></th>\n",
       "      <th></th>\n",
       "      <th></th>\n",
       "      <th></th>\n",
       "      <th></th>\n",
       "    </tr>\n",
       "  </thead>\n",
       "  <tbody>\n",
       "    <tr>\n",
       "      <th>2017-08-31 19:56:00</th>\n",
       "      <td>2472.22</td>\n",
       "      <td>44.72</td>\n",
       "      <td>164.11</td>\n",
       "      <td>155.090</td>\n",
       "      <td>83.67</td>\n",
       "      <td>106.565</td>\n",
       "      <td>114.49</td>\n",
       "      <td>47.150</td>\n",
       "      <td>142.425</td>\n",
       "      <td>45.130</td>\n",
       "      <td>...</td>\n",
       "      <td>99.675</td>\n",
       "      <td>99.53</td>\n",
       "      <td>49.485</td>\n",
       "      <td>40.955</td>\n",
       "      <td>76.360</td>\n",
       "      <td>32.285</td>\n",
       "      <td>62.110</td>\n",
       "      <td>76.88</td>\n",
       "      <td>114.31</td>\n",
       "      <td>62.7250</td>\n",
       "    </tr>\n",
       "    <tr>\n",
       "      <th>2017-08-31 19:57:00</th>\n",
       "      <td>2471.77</td>\n",
       "      <td>44.73</td>\n",
       "      <td>164.12</td>\n",
       "      <td>155.160</td>\n",
       "      <td>83.65</td>\n",
       "      <td>106.590</td>\n",
       "      <td>114.52</td>\n",
       "      <td>47.150</td>\n",
       "      <td>142.450</td>\n",
       "      <td>45.130</td>\n",
       "      <td>...</td>\n",
       "      <td>99.730</td>\n",
       "      <td>99.63</td>\n",
       "      <td>49.480</td>\n",
       "      <td>40.960</td>\n",
       "      <td>76.370</td>\n",
       "      <td>32.295</td>\n",
       "      <td>62.100</td>\n",
       "      <td>76.90</td>\n",
       "      <td>114.33</td>\n",
       "      <td>62.7100</td>\n",
       "    </tr>\n",
       "    <tr>\n",
       "      <th>2017-08-31 19:58:00</th>\n",
       "      <td>2470.03</td>\n",
       "      <td>44.74</td>\n",
       "      <td>164.01</td>\n",
       "      <td>155.065</td>\n",
       "      <td>83.62</td>\n",
       "      <td>106.520</td>\n",
       "      <td>114.47</td>\n",
       "      <td>47.150</td>\n",
       "      <td>142.330</td>\n",
       "      <td>45.135</td>\n",
       "      <td>...</td>\n",
       "      <td>99.735</td>\n",
       "      <td>99.64</td>\n",
       "      <td>49.495</td>\n",
       "      <td>40.940</td>\n",
       "      <td>76.315</td>\n",
       "      <td>32.290</td>\n",
       "      <td>62.090</td>\n",
       "      <td>76.88</td>\n",
       "      <td>114.31</td>\n",
       "      <td>62.6850</td>\n",
       "    </tr>\n",
       "    <tr>\n",
       "      <th>2017-08-31 19:59:00</th>\n",
       "      <td>2471.49</td>\n",
       "      <td>44.71</td>\n",
       "      <td>163.88</td>\n",
       "      <td>154.960</td>\n",
       "      <td>83.58</td>\n",
       "      <td>106.400</td>\n",
       "      <td>114.33</td>\n",
       "      <td>47.135</td>\n",
       "      <td>142.170</td>\n",
       "      <td>45.065</td>\n",
       "      <td>...</td>\n",
       "      <td>99.700</td>\n",
       "      <td>99.63</td>\n",
       "      <td>49.485</td>\n",
       "      <td>40.925</td>\n",
       "      <td>76.300</td>\n",
       "      <td>32.275</td>\n",
       "      <td>62.075</td>\n",
       "      <td>76.83</td>\n",
       "      <td>114.23</td>\n",
       "      <td>62.6301</td>\n",
       "    </tr>\n",
       "    <tr>\n",
       "      <th>2017-08-31 20:00:00</th>\n",
       "      <td>2471.49</td>\n",
       "      <td>44.74</td>\n",
       "      <td>163.98</td>\n",
       "      <td>155.160</td>\n",
       "      <td>83.69</td>\n",
       "      <td>106.470</td>\n",
       "      <td>114.46</td>\n",
       "      <td>47.150</td>\n",
       "      <td>142.410</td>\n",
       "      <td>45.120</td>\n",
       "      <td>...</td>\n",
       "      <td>99.670</td>\n",
       "      <td>99.64</td>\n",
       "      <td>49.490</td>\n",
       "      <td>40.940</td>\n",
       "      <td>76.320</td>\n",
       "      <td>32.270</td>\n",
       "      <td>62.070</td>\n",
       "      <td>76.81</td>\n",
       "      <td>114.28</td>\n",
       "      <td>62.6800</td>\n",
       "    </tr>\n",
       "  </tbody>\n",
       "</table>\n",
       "<p>5 rows × 501 columns</p>\n",
       "</div>"
      ],
      "text/plain": [
       "                       SP500  NASDAQ.AAL  NASDAQ.AAPL  NASDAQ.ADBE  \\\n",
       "DATE                                                                 \n",
       "2017-08-31 19:56:00  2472.22       44.72       164.11      155.090   \n",
       "2017-08-31 19:57:00  2471.77       44.73       164.12      155.160   \n",
       "2017-08-31 19:58:00  2470.03       44.74       164.01      155.065   \n",
       "2017-08-31 19:59:00  2471.49       44.71       163.88      154.960   \n",
       "2017-08-31 20:00:00  2471.49       44.74       163.98      155.160   \n",
       "\n",
       "                     NASDAQ.ADI  NASDAQ.ADP  NASDAQ.ADSK  NASDAQ.AKAM  \\\n",
       "DATE                                                                    \n",
       "2017-08-31 19:56:00       83.67     106.565       114.49       47.150   \n",
       "2017-08-31 19:57:00       83.65     106.590       114.52       47.150   \n",
       "2017-08-31 19:58:00       83.62     106.520       114.47       47.150   \n",
       "2017-08-31 19:59:00       83.58     106.400       114.33       47.135   \n",
       "2017-08-31 20:00:00       83.69     106.470       114.46       47.150   \n",
       "\n",
       "                     NASDAQ.ALXN  NASDAQ.AMAT    ...     NYSE.WYN  NYSE.XEC  \\\n",
       "DATE                                             ...                          \n",
       "2017-08-31 19:56:00      142.425       45.130    ...       99.675     99.53   \n",
       "2017-08-31 19:57:00      142.450       45.130    ...       99.730     99.63   \n",
       "2017-08-31 19:58:00      142.330       45.135    ...       99.735     99.64   \n",
       "2017-08-31 19:59:00      142.170       45.065    ...       99.700     99.63   \n",
       "2017-08-31 20:00:00      142.410       45.120    ...       99.670     99.64   \n",
       "\n",
       "                     NYSE.XEL  NYSE.XL  NYSE.XOM  NYSE.XRX  NYSE.XYL  \\\n",
       "DATE                                                                   \n",
       "2017-08-31 19:56:00    49.485   40.955    76.360    32.285    62.110   \n",
       "2017-08-31 19:57:00    49.480   40.960    76.370    32.295    62.100   \n",
       "2017-08-31 19:58:00    49.495   40.940    76.315    32.290    62.090   \n",
       "2017-08-31 19:59:00    49.485   40.925    76.300    32.275    62.075   \n",
       "2017-08-31 20:00:00    49.490   40.940    76.320    32.270    62.070   \n",
       "\n",
       "                     NYSE.YUM  NYSE.ZBH  NYSE.ZTS  \n",
       "DATE                                               \n",
       "2017-08-31 19:56:00     76.88    114.31   62.7250  \n",
       "2017-08-31 19:57:00     76.90    114.33   62.7100  \n",
       "2017-08-31 19:58:00     76.88    114.31   62.6850  \n",
       "2017-08-31 19:59:00     76.83    114.23   62.6301  \n",
       "2017-08-31 20:00:00     76.81    114.28   62.6800  \n",
       "\n",
       "[5 rows x 501 columns]"
      ]
     },
     "execution_count": 6,
     "metadata": {},
     "output_type": "execute_result"
    }
   ],
   "source": [
    "ds.index = ds['DATE']\n",
    "ds.drop('DATE',axis = 1,inplace=True)\n",
    "ds.tail()"
   ]
  },
  {
   "cell_type": "markdown",
   "metadata": {},
   "source": [
    "# Forecasting for NASDAQ.AAPL"
   ]
  },
  {
   "cell_type": "code",
   "execution_count": 7,
   "metadata": {},
   "outputs": [],
   "source": [
    "ds_AAPL = ds[['NASDAQ.AAPL']].copy()"
   ]
  },
  {
   "cell_type": "code",
   "execution_count": 8,
   "metadata": {},
   "outputs": [
    {
     "data": {
      "text/html": [
       "<div>\n",
       "<style scoped>\n",
       "    .dataframe tbody tr th:only-of-type {\n",
       "        vertical-align: middle;\n",
       "    }\n",
       "\n",
       "    .dataframe tbody tr th {\n",
       "        vertical-align: top;\n",
       "    }\n",
       "\n",
       "    .dataframe thead th {\n",
       "        text-align: right;\n",
       "    }\n",
       "</style>\n",
       "<table border=\"1\" class=\"dataframe\">\n",
       "  <thead>\n",
       "    <tr style=\"text-align: right;\">\n",
       "      <th></th>\n",
       "      <th>NASDAQ.AAPL</th>\n",
       "    </tr>\n",
       "    <tr>\n",
       "      <th>DATE</th>\n",
       "      <th></th>\n",
       "    </tr>\n",
       "  </thead>\n",
       "  <tbody>\n",
       "    <tr>\n",
       "      <th>2017-08-31 19:56:00</th>\n",
       "      <td>164.11</td>\n",
       "    </tr>\n",
       "    <tr>\n",
       "      <th>2017-08-31 19:57:00</th>\n",
       "      <td>164.12</td>\n",
       "    </tr>\n",
       "    <tr>\n",
       "      <th>2017-08-31 19:58:00</th>\n",
       "      <td>164.01</td>\n",
       "    </tr>\n",
       "    <tr>\n",
       "      <th>2017-08-31 19:59:00</th>\n",
       "      <td>163.88</td>\n",
       "    </tr>\n",
       "    <tr>\n",
       "      <th>2017-08-31 20:00:00</th>\n",
       "      <td>163.98</td>\n",
       "    </tr>\n",
       "  </tbody>\n",
       "</table>\n",
       "</div>"
      ],
      "text/plain": [
       "                     NASDAQ.AAPL\n",
       "DATE                            \n",
       "2017-08-31 19:56:00       164.11\n",
       "2017-08-31 19:57:00       164.12\n",
       "2017-08-31 19:58:00       164.01\n",
       "2017-08-31 19:59:00       163.88\n",
       "2017-08-31 20:00:00       163.98"
      ]
     },
     "execution_count": 8,
     "metadata": {},
     "output_type": "execute_result"
    }
   ],
   "source": [
    "ds_AAPL.tail()"
   ]
  },
  {
   "cell_type": "code",
   "execution_count": 9,
   "metadata": {},
   "outputs": [
    {
     "data": {
      "text/plain": [
       "NASDAQ.AAPL    41266\n",
       "dtype: int64"
      ]
     },
     "execution_count": 9,
     "metadata": {},
     "output_type": "execute_result"
    }
   ],
   "source": [
    "ds_AAPL.count()"
   ]
  },
  {
   "cell_type": "code",
   "execution_count": 10,
   "metadata": {},
   "outputs": [
    {
     "data": {
      "text/plain": [
       "<matplotlib.axes._subplots.AxesSubplot at 0x8157f60>"
      ]
     },
     "execution_count": 10,
     "metadata": {},
     "output_type": "execute_result"
    },
    {
     "data": {
      "image/png": "[encoded data removed]",
      "text/plain": [
       "<Figure size 432x288 with 1 Axes>"
      ]
     },
     "metadata": {
      "needs_background": "light"
     },
     "output_type": "display_data"
    }
   ],
   "source": [
    "ds_AAPL.plot()"
   ]
  },
  {
   "cell_type": "markdown",
   "metadata": {},
   "source": [
    "Stationary means mean,variance and covariance is constant over periods."
   ]
  },
  {
   "cell_type": "code",
   "execution_count": 11,
   "metadata": {},
   "outputs": [
    {
     "data": {
      "image/png": "[encoded data removed]",
      "text/plain": [
       "<Figure size 432x288 with 1 Axes>"
      ]
     },
     "execution_count": 11,
     "metadata": {},
     "output_type": "execute_result"
    },
    {
     "data": {
      "image/png": "[encoded data removed]",
      "text/plain": [
       "<Figure size 432x288 with 1 Axes>"
      ]
     },
     "metadata": {
      "needs_background": "light"
     },
     "output_type": "display_data"
    }
   ],
   "source": [
    "from statsmodels.graphics.tsaplots import plot_acf\n",
    "plot_acf(ds_AAPL)"
   ]
  },
  {
   "cell_type": "markdown",
   "metadata": {},
   "source": [
    "# Converting series to stationary"
   ]
  },
  {
   "cell_type": "code",
   "execution_count": 12,
   "metadata": {},
   "outputs": [
    {
     "data": {
      "text/html": [
       "<div>\n",
       "<style scoped>\n",
       "    .dataframe tbody tr th:only-of-type {\n",
       "        vertical-align: middle;\n",
       "    }\n",
       "\n",
       "    .dataframe tbody tr th {\n",
       "        vertical-align: top;\n",
       "    }\n",
       "\n",
       "    .dataframe thead th {\n",
       "        text-align: right;\n",
       "    }\n",
       "</style>\n",
       "<table border=\"1\" class=\"dataframe\">\n",
       "  <thead>\n",
       "    <tr style=\"text-align: right;\">\n",
       "      <th></th>\n",
       "      <th>NASDAQ.AAPL</th>\n",
       "    </tr>\n",
       "    <tr>\n",
       "      <th>DATE</th>\n",
       "      <th></th>\n",
       "    </tr>\n",
       "  </thead>\n",
       "  <tbody>\n",
       "    <tr>\n",
       "      <th>2017-04-03 13:30:00</th>\n",
       "      <td>NaN</td>\n",
       "    </tr>\n",
       "    <tr>\n",
       "      <th>2017-04-03 13:31:00</th>\n",
       "      <td>143.6800</td>\n",
       "    </tr>\n",
       "    <tr>\n",
       "      <th>2017-04-03 13:32:00</th>\n",
       "      <td>143.7000</td>\n",
       "    </tr>\n",
       "    <tr>\n",
       "      <th>2017-04-03 13:33:00</th>\n",
       "      <td>143.6901</td>\n",
       "    </tr>\n",
       "    <tr>\n",
       "      <th>2017-04-03 13:34:00</th>\n",
       "      <td>143.6400</td>\n",
       "    </tr>\n",
       "    <tr>\n",
       "      <th>2017-04-03 13:35:00</th>\n",
       "      <td>143.6600</td>\n",
       "    </tr>\n",
       "    <tr>\n",
       "      <th>2017-04-03 13:36:00</th>\n",
       "      <td>143.7800</td>\n",
       "    </tr>\n",
       "    <tr>\n",
       "      <th>2017-04-03 13:37:00</th>\n",
       "      <td>143.8640</td>\n",
       "    </tr>\n",
       "    <tr>\n",
       "      <th>2017-04-03 13:38:00</th>\n",
       "      <td>143.8100</td>\n",
       "    </tr>\n",
       "    <tr>\n",
       "      <th>2017-04-03 13:39:00</th>\n",
       "      <td>143.8150</td>\n",
       "    </tr>\n",
       "    <tr>\n",
       "      <th>2017-04-03 13:40:00</th>\n",
       "      <td>143.8000</td>\n",
       "    </tr>\n",
       "    <tr>\n",
       "      <th>2017-04-03 13:41:00</th>\n",
       "      <td>143.8900</td>\n",
       "    </tr>\n",
       "    <tr>\n",
       "      <th>2017-04-03 13:42:00</th>\n",
       "      <td>143.9700</td>\n",
       "    </tr>\n",
       "    <tr>\n",
       "      <th>2017-04-03 13:43:00</th>\n",
       "      <td>143.9199</td>\n",
       "    </tr>\n",
       "    <tr>\n",
       "      <th>2017-04-03 13:44:00</th>\n",
       "      <td>144.0239</td>\n",
       "    </tr>\n",
       "    <tr>\n",
       "      <th>2017-04-03 13:45:00</th>\n",
       "      <td>144.0500</td>\n",
       "    </tr>\n",
       "    <tr>\n",
       "      <th>2017-04-03 13:46:00</th>\n",
       "      <td>144.0638</td>\n",
       "    </tr>\n",
       "    <tr>\n",
       "      <th>2017-04-03 13:47:00</th>\n",
       "      <td>144.0200</td>\n",
       "    </tr>\n",
       "    <tr>\n",
       "      <th>2017-04-03 13:48:00</th>\n",
       "      <td>144.0200</td>\n",
       "    </tr>\n",
       "    <tr>\n",
       "      <th>2017-04-03 13:49:00</th>\n",
       "      <td>143.9700</td>\n",
       "    </tr>\n",
       "    <tr>\n",
       "      <th>2017-04-03 13:50:00</th>\n",
       "      <td>144.0300</td>\n",
       "    </tr>\n",
       "    <tr>\n",
       "      <th>2017-04-03 13:51:00</th>\n",
       "      <td>143.9800</td>\n",
       "    </tr>\n",
       "    <tr>\n",
       "      <th>2017-04-03 13:52:00</th>\n",
       "      <td>143.9000</td>\n",
       "    </tr>\n",
       "    <tr>\n",
       "      <th>2017-04-03 13:53:00</th>\n",
       "      <td>143.9100</td>\n",
       "    </tr>\n",
       "    <tr>\n",
       "      <th>2017-04-03 13:54:00</th>\n",
       "      <td>143.9100</td>\n",
       "    </tr>\n",
       "    <tr>\n",
       "      <th>2017-04-03 13:55:00</th>\n",
       "      <td>143.8600</td>\n",
       "    </tr>\n",
       "    <tr>\n",
       "      <th>2017-04-03 13:56:00</th>\n",
       "      <td>143.8600</td>\n",
       "    </tr>\n",
       "    <tr>\n",
       "      <th>2017-04-03 13:57:00</th>\n",
       "      <td>143.8935</td>\n",
       "    </tr>\n",
       "    <tr>\n",
       "      <th>2017-04-03 13:58:00</th>\n",
       "      <td>143.9300</td>\n",
       "    </tr>\n",
       "    <tr>\n",
       "      <th>2017-04-03 13:59:00</th>\n",
       "      <td>143.9500</td>\n",
       "    </tr>\n",
       "    <tr>\n",
       "      <th>...</th>\n",
       "      <td>...</td>\n",
       "    </tr>\n",
       "    <tr>\n",
       "      <th>2017-08-31 19:31:00</th>\n",
       "      <td>164.0700</td>\n",
       "    </tr>\n",
       "    <tr>\n",
       "      <th>2017-08-31 19:32:00</th>\n",
       "      <td>164.0700</td>\n",
       "    </tr>\n",
       "    <tr>\n",
       "      <th>2017-08-31 19:33:00</th>\n",
       "      <td>164.0750</td>\n",
       "    </tr>\n",
       "    <tr>\n",
       "      <th>2017-08-31 19:34:00</th>\n",
       "      <td>164.1500</td>\n",
       "    </tr>\n",
       "    <tr>\n",
       "      <th>2017-08-31 19:35:00</th>\n",
       "      <td>164.1300</td>\n",
       "    </tr>\n",
       "    <tr>\n",
       "      <th>2017-08-31 19:36:00</th>\n",
       "      <td>164.1400</td>\n",
       "    </tr>\n",
       "    <tr>\n",
       "      <th>2017-08-31 19:37:00</th>\n",
       "      <td>164.1450</td>\n",
       "    </tr>\n",
       "    <tr>\n",
       "      <th>2017-08-31 19:38:00</th>\n",
       "      <td>164.2050</td>\n",
       "    </tr>\n",
       "    <tr>\n",
       "      <th>2017-08-31 19:39:00</th>\n",
       "      <td>164.2350</td>\n",
       "    </tr>\n",
       "    <tr>\n",
       "      <th>2017-08-31 19:40:00</th>\n",
       "      <td>164.2900</td>\n",
       "    </tr>\n",
       "    <tr>\n",
       "      <th>2017-08-31 19:41:00</th>\n",
       "      <td>164.2800</td>\n",
       "    </tr>\n",
       "    <tr>\n",
       "      <th>2017-08-31 19:42:00</th>\n",
       "      <td>164.2600</td>\n",
       "    </tr>\n",
       "    <tr>\n",
       "      <th>2017-08-31 19:43:00</th>\n",
       "      <td>164.2634</td>\n",
       "    </tr>\n",
       "    <tr>\n",
       "      <th>2017-08-31 19:44:00</th>\n",
       "      <td>164.2400</td>\n",
       "    </tr>\n",
       "    <tr>\n",
       "      <th>2017-08-31 19:45:00</th>\n",
       "      <td>164.2700</td>\n",
       "    </tr>\n",
       "    <tr>\n",
       "      <th>2017-08-31 19:46:00</th>\n",
       "      <td>164.2000</td>\n",
       "    </tr>\n",
       "    <tr>\n",
       "      <th>2017-08-31 19:47:00</th>\n",
       "      <td>164.1350</td>\n",
       "    </tr>\n",
       "    <tr>\n",
       "      <th>2017-08-31 19:48:00</th>\n",
       "      <td>164.1800</td>\n",
       "    </tr>\n",
       "    <tr>\n",
       "      <th>2017-08-31 19:49:00</th>\n",
       "      <td>164.2300</td>\n",
       "    </tr>\n",
       "    <tr>\n",
       "      <th>2017-08-31 19:50:00</th>\n",
       "      <td>164.2100</td>\n",
       "    </tr>\n",
       "    <tr>\n",
       "      <th>2017-08-31 19:51:00</th>\n",
       "      <td>164.1850</td>\n",
       "    </tr>\n",
       "    <tr>\n",
       "      <th>2017-08-31 19:52:00</th>\n",
       "      <td>164.1600</td>\n",
       "    </tr>\n",
       "    <tr>\n",
       "      <th>2017-08-31 19:53:00</th>\n",
       "      <td>164.0600</td>\n",
       "    </tr>\n",
       "    <tr>\n",
       "      <th>2017-08-31 19:54:00</th>\n",
       "      <td>164.1900</td>\n",
       "    </tr>\n",
       "    <tr>\n",
       "      <th>2017-08-31 19:55:00</th>\n",
       "      <td>164.2000</td>\n",
       "    </tr>\n",
       "    <tr>\n",
       "      <th>2017-08-31 19:56:00</th>\n",
       "      <td>164.1400</td>\n",
       "    </tr>\n",
       "    <tr>\n",
       "      <th>2017-08-31 19:57:00</th>\n",
       "      <td>164.1100</td>\n",
       "    </tr>\n",
       "    <tr>\n",
       "      <th>2017-08-31 19:58:00</th>\n",
       "      <td>164.1200</td>\n",
       "    </tr>\n",
       "    <tr>\n",
       "      <th>2017-08-31 19:59:00</th>\n",
       "      <td>164.0100</td>\n",
       "    </tr>\n",
       "    <tr>\n",
       "      <th>2017-08-31 20:00:00</th>\n",
       "      <td>163.8800</td>\n",
       "    </tr>\n",
       "  </tbody>\n",
       "</table>\n",
       "<p>41266 rows × 1 columns</p>\n",
       "</div>"
      ],
      "text/plain": [
       "                     NASDAQ.AAPL\n",
       "DATE                            \n",
       "2017-04-03 13:30:00          NaN\n",
       "2017-04-03 13:31:00     143.6800\n",
       "2017-04-03 13:32:00     143.7000\n",
       "2017-04-03 13:33:00     143.6901\n",
       "2017-04-03 13:34:00     143.6400\n",
       "2017-04-03 13:35:00     143.6600\n",
       "2017-04-03 13:36:00     143.7800\n",
       "2017-04-03 13:37:00     143.8640\n",
       "2017-04-03 13:38:00     143.8100\n",
       "2017-04-03 13:39:00     143.8150\n",
       "2017-04-03 13:40:00     143.8000\n",
       "2017-04-03 13:41:00     143.8900\n",
       "2017-04-03 13:42:00     143.9700\n",
       "2017-04-03 13:43:00     143.9199\n",
       "2017-04-03 13:44:00     144.0239\n",
       "2017-04-03 13:45:00     144.0500\n",
       "2017-04-03 13:46:00     144.0638\n",
       "2017-04-03 13:47:00     144.0200\n",
       "2017-04-03 13:48:00     144.0200\n",
       "2017-04-03 13:49:00     143.9700\n",
       "2017-04-03 13:50:00     144.0300\n",
       "2017-04-03 13:51:00     143.9800\n",
       "2017-04-03 13:52:00     143.9000\n",
       "2017-04-03 13:53:00     143.9100\n",
       "2017-04-03 13:54:00     143.9100\n",
       "2017-04-03 13:55:00     143.8600\n",
       "2017-04-03 13:56:00     143.8600\n",
       "2017-04-03 13:57:00     143.8935\n",
       "2017-04-03 13:58:00     143.9300\n",
       "2017-04-03 13:59:00     143.9500\n",
       "...                          ...\n",
       "2017-08-31 19:31:00     164.0700\n",
       "2017-08-31 19:32:00     164.0700\n",
       "2017-08-31 19:33:00     164.0750\n",
       "2017-08-31 19:34:00     164.1500\n",
       "2017-08-31 19:35:00     164.1300\n",
       "2017-08-31 19:36:00     164.1400\n",
       "2017-08-31 19:37:00     164.1450\n",
       "2017-08-31 19:38:00     164.2050\n",
       "2017-08-31 19:39:00     164.2350\n",
       "2017-08-31 19:40:00     164.2900\n",
       "2017-08-31 19:41:00     164.2800\n",
       "2017-08-31 19:42:00     164.2600\n",
       "2017-08-31 19:43:00     164.2634\n",
       "2017-08-31 19:44:00     164.2400\n",
       "2017-08-31 19:45:00     164.2700\n",
       "2017-08-31 19:46:00     164.2000\n",
       "2017-08-31 19:47:00     164.1350\n",
       "2017-08-31 19:48:00     164.1800\n",
       "2017-08-31 19:49:00     164.2300\n",
       "2017-08-31 19:50:00     164.2100\n",
       "2017-08-31 19:51:00     164.1850\n",
       "2017-08-31 19:52:00     164.1600\n",
       "2017-08-31 19:53:00     164.0600\n",
       "2017-08-31 19:54:00     164.1900\n",
       "2017-08-31 19:55:00     164.2000\n",
       "2017-08-31 19:56:00     164.1400\n",
       "2017-08-31 19:57:00     164.1100\n",
       "2017-08-31 19:58:00     164.1200\n",
       "2017-08-31 19:59:00     164.0100\n",
       "2017-08-31 20:00:00     163.8800\n",
       "\n",
       "[41266 rows x 1 columns]"
      ]
     },
     "execution_count": 12,
     "metadata": {},
     "output_type": "execute_result"
    }
   ],
   "source": [
    "ds_AAPL.shift(1)"
   ]
  },
  {
   "cell_type": "code",
   "execution_count": 13,
   "metadata": {},
   "outputs": [
    {
     "name": "stdout",
     "output_type": "stream",
     "text": [
      "28886\n",
      "12380\n"
     ]
    }
   ],
   "source": [
    "X = ds_AAPL.values\n",
    "train = X[0:28886] # 27 data as train data\n",
    "test = X[28886:] # 9 data as test data\n",
    "print(train.size)\n",
    "print(test.size)\n",
    "predictions = []"
   ]
  },
  {
   "cell_type": "markdown",
   "metadata": {},
   "source": [
    "# ARIMA Model"
   ]
  },
  {
   "cell_type": "code",
   "execution_count": 16,
   "metadata": {},
   "outputs": [],
   "source": [
    "from statsmodels.tsa.arima_model import ARIMA\n",
    "import itertools\n",
    "p=d=q=range(0,6)\n",
    "pdq=list(itertools.product(p,d,q))"
   ]
  },
  {
   "cell_type": "code",
   "execution_count": 16,
   "metadata": {},
   "outputs": [
    {
     "name": "stdout",
     "output_type": "stream",
     "text": [
      "(0, 0, 0) 170326.9720446082\n",
      "(0, 0, 1) 131018.03599865244\n",
      "(0, 0, 2) 95780.67244459347\n",
      "(0, 1, 0) -64708.71200636141\n",
      "(0, 1, 1) -64706.87731534096\n",
      "(0, 1, 2) -64718.28609667202\n",
      "(0, 1, 3) -64719.67999909363\n",
      "(0, 1, 4) -64724.746502434995\n",
      "(0, 1, 5) -64723.273957570826\n",
      "(0, 2, 0) -44617.132207470175\n",
      "(0, 2, 1) -64678.28420151926\n",
      "(1, 0, 0) -64703.10601232189\n",
      "(1, 0, 1) -64701.25996944279\n",
      "(1, 0, 2) -64712.567378777894\n",
      "(1, 0, 3) -64714.01381690745\n",
      "(1, 0, 4) -64719.00741340537\n",
      "(1, 0, 5) -64717.5164734424\n",
      "(1, 1, 0) -64706.87029558887\n",
      "(1, 1, 1) -64714.63157427205\n",
      "(1, 1, 2) -64725.38695947178\n",
      "(1, 2, 0) -52566.600243591136\n",
      "(1, 2, 1) -64686.65933766689\n",
      "(1, 2, 2) -64694.12976421554\n",
      "(1, 2, 3) -64689.76514385636\n",
      "(1, 2, 4) -64699.297497167354\n",
      "(1, 2, 5) -64699.32007189297\n",
      "(2, 0, 0) -64701.25345154619\n",
      "(2, 0, 1) -64709.05736238384\n",
      "(2, 0, 2) -64719.706396486465\n",
      "(2, 0, 3) -64717.71698006833\n",
      "(2, 0, 4) -64716.799462557916\n",
      "(2, 0, 5) -64715.504008617456\n",
      "(2, 1, 0) -64717.93086809844\n",
      "(2, 1, 1) -64725.403067054765\n",
      "(2, 2, 0) -56350.178772023224\n",
      "(2, 2, 1) -64659.76946652609\n",
      "(2, 2, 2) -64677.50047536711\n",
      "(2, 2, 3) -64691.47232780665\n",
      "(2, 2, 4) -64685.865000957376\n",
      "(2, 2, 5) -64693.68078186382\n",
      "(3, 0, 0) -64712.215471578296\n",
      "(3, 0, 1) -64719.725560805295\n",
      "(3, 0, 2) -64717.736535281816\n",
      "(3, 0, 3) -64716.7129675507\n",
      "(3, 0, 4) -64716.65501447834\n",
      "(3, 0, 5) -64715.34579669108\n",
      "(3, 1, 0) -64719.31896994285\n",
      "(3, 1, 1) -64723.405831668686\n",
      "(3, 1, 2) -64722.548049424644\n",
      "(3, 1, 3) -64730.23498581747\n",
      "(3, 2, 0) -58063.139915739725\n",
      "(3, 2, 1) -64689.62745372353\n",
      "(3, 2, 2) -64691.78448964057\n",
      "(3, 2, 3) -64683.65323637122\n",
      "(3, 2, 4) -64690.808543302424\n",
      "(3, 2, 5) -64691.41364626751\n",
      "(4, 0, 0) -64713.653833696706\n",
      "(4, 0, 1) -64717.72973498923\n",
      "(4, 0, 2) -64716.8028089751\n",
      "(4, 0, 3) -64724.4826445432\n",
      "(4, 0, 4) -64714.894758512615\n",
      "(4, 0, 5) -64736.726370027434\n",
      "(4, 1, 0) -64724.01865458464\n",
      "(4, 1, 1) -64723.51089431431\n",
      "(4, 1, 2) -64722.38263292382\n",
      "(4, 1, 3) -64733.812977368\n",
      "(4, 1, 4) -64744.94423726782\n",
      "(4, 2, 0) -59269.36850050064\n",
      "(4, 2, 1) -64692.339651533126\n",
      "(4, 2, 2) -64639.317255856746\n",
      "(4, 2, 3) -64710.951749964865\n",
      "(4, 2, 4) -64688.04631276072\n",
      "(4, 2, 5) -64696.68667686089\n",
      "(5, 0, 0) -64718.28359457277\n",
      "(5, 0, 1) -64716.73288830224\n",
      "(5, 0, 2) -64716.61860478154\n",
      "(5, 0, 3) -64727.56510901183\n",
      "(5, 0, 4) -64731.51324699022\n",
      "(5, 0, 5) -64744.47252876454\n",
      "(5, 1, 0) -64722.57419426042\n",
      "(5, 1, 1) -64721.56022721679\n",
      "(5, 1, 2) -64721.03844535026\n",
      "(5, 1, 3) -64726.31980688601\n",
      "(5, 1, 4) -64742.96668274717\n",
      "(5, 2, 0) -60006.91481506369\n",
      "(5, 2, 2) -64691.10770705236\n",
      "(5, 2, 3) -64625.6211345053\n",
      "(5, 2, 4) -64646.76100141062\n",
      "(5, 2, 5) -64694.606304353205\n"
     ]
    }
   ],
   "source": [
    "import warnings\n",
    "warnings.filterwarnings('ignore')\n",
    "for param in pdq:\n",
    "    try:\n",
    "        model_arima = ARIMA(train, order=param)\n",
    "        model_arima_fit = model_arima.fit()\n",
    "        print(param,model_arima_fit.aic)\n",
    "    except:\n",
    "        continue"
   ]
  },
  {
   "cell_type": "code",
   "execution_count": 17,
   "metadata": {},
   "outputs": [
    {
     "name": "stdout",
     "output_type": "stream",
     "text": [
      "-64744.94423726782\n"
     ]
    }
   ],
   "source": [
    "#p,d,q \n",
    "#p -> Periods taken for auto regressive model\n",
    "#d -> Integrated order, difference\n",
    "#q -> Periods in moving average model\n",
    "model_arima = ARIMA(train, order=(4,1,4))\n",
    "model_arima_fit = model_arima.fit()\n",
    "print(model_arima_fit.aic)"
   ]
  },
  {
   "cell_type": "code",
   "execution_count": 18,
   "metadata": {},
   "outputs": [
    {
     "data": {
      "text/plain": [
       "array([150.61361656, 150.61508183, 150.614859  , ..., 153.58403181,\n",
       "       153.58427174, 153.58451166])"
      ]
     },
     "execution_count": 18,
     "metadata": {},
     "output_type": "execute_result"
    }
   ],
   "source": [
    "predictions = model_arima_fit.forecast(steps=12380)[0]\n",
    "predictions"
   ]
  },
  {
   "cell_type": "code",
   "execution_count": 19,
   "metadata": {},
   "outputs": [
    {
     "data": {
      "text/plain": [
       "[<matplotlib.lines.Line2D at 0xa0b8080>]"
      ]
     },
     "execution_count": 19,
     "metadata": {},
     "output_type": "execute_result"
    },
    {
     "data": {
      "image/png": "[encoded data removed]",
      "text/plain": [
       "<Figure size 432x288 with 1 Axes>"
      ]
     },
     "metadata": {
      "needs_background": "light"
     },
     "output_type": "display_data"
    }
   ],
   "source": [
    "plt.plot(test)\n",
    "plt.plot(predictions, color='red')"
   ]
  },
  {
   "cell_type": "code",
   "execution_count": 20,
   "metadata": {},
   "outputs": [
    {
     "data": {
      "text/plain": [
       "37.55151085148117"
      ]
     },
     "execution_count": 20,
     "metadata": {},
     "output_type": "execute_result"
    }
   ],
   "source": [
    "from sklearn.metrics import mean_squared_error\n",
    "mean_squared_error(test,predictions)"
   ]
  },
  {
   "cell_type": "markdown",
   "metadata": {},
   "source": [
    "# Forecasting for NASDAQ.ADP"
   ]
  },
  {
   "cell_type": "code",
   "execution_count": 7,
   "metadata": {},
   "outputs": [],
   "source": [
    "ds_ADP = ds[['NASDAQ.ADP']].copy()"
   ]
  },
  {
   "cell_type": "code",
   "execution_count": 8,
   "metadata": {},
   "outputs": [
    {
     "data": {
      "text/html": [
       "<div>\n",
       "<style scoped>\n",
       "    .dataframe tbody tr th:only-of-type {\n",
       "        vertical-align: middle;\n",
       "    }\n",
       "\n",
       "    .dataframe tbody tr th {\n",
       "        vertical-align: top;\n",
       "    }\n",
       "\n",
       "    .dataframe thead th {\n",
       "        text-align: right;\n",
       "    }\n",
       "</style>\n",
       "<table border=\"1\" class=\"dataframe\">\n",
       "  <thead>\n",
       "    <tr style=\"text-align: right;\">\n",
       "      <th></th>\n",
       "      <th>NASDAQ.ADP</th>\n",
       "    </tr>\n",
       "    <tr>\n",
       "      <th>DATE</th>\n",
       "      <th></th>\n",
       "    </tr>\n",
       "  </thead>\n",
       "  <tbody>\n",
       "    <tr>\n",
       "      <th>2017-08-31 19:56:00</th>\n",
       "      <td>106.565</td>\n",
       "    </tr>\n",
       "    <tr>\n",
       "      <th>2017-08-31 19:57:00</th>\n",
       "      <td>106.590</td>\n",
       "    </tr>\n",
       "    <tr>\n",
       "      <th>2017-08-31 19:58:00</th>\n",
       "      <td>106.520</td>\n",
       "    </tr>\n",
       "    <tr>\n",
       "      <th>2017-08-31 19:59:00</th>\n",
       "      <td>106.400</td>\n",
       "    </tr>\n",
       "    <tr>\n",
       "      <th>2017-08-31 20:00:00</th>\n",
       "      <td>106.470</td>\n",
       "    </tr>\n",
       "  </tbody>\n",
       "</table>\n",
       "</div>"
      ],
      "text/plain": [
       "                     NASDAQ.ADP\n",
       "DATE                           \n",
       "2017-08-31 19:56:00     106.565\n",
       "2017-08-31 19:57:00     106.590\n",
       "2017-08-31 19:58:00     106.520\n",
       "2017-08-31 19:59:00     106.400\n",
       "2017-08-31 20:00:00     106.470"
      ]
     },
     "execution_count": 8,
     "metadata": {},
     "output_type": "execute_result"
    }
   ],
   "source": [
    "ds_ADP.tail()"
   ]
  },
  {
   "cell_type": "code",
   "execution_count": 9,
   "metadata": {},
   "outputs": [
    {
     "data": {
      "text/plain": [
       "NASDAQ.ADP    41266\n",
       "dtype: int64"
      ]
     },
     "execution_count": 9,
     "metadata": {},
     "output_type": "execute_result"
    }
   ],
   "source": [
    "ds_ADP.count()"
   ]
  },
  {
   "cell_type": "code",
   "execution_count": 10,
   "metadata": {},
   "outputs": [
    {
     "data": {
      "text/plain": [
       "<matplotlib.axes._subplots.AxesSubplot at 0x8edc940>"
      ]
     },
     "execution_count": 10,
     "metadata": {},
     "output_type": "execute_result"
    },
    {
     "data": {
      "image/png": "[encoded data removed]",
      "text/plain": [
       "<Figure size 432x288 with 1 Axes>"
      ]
     },
     "metadata": {
      "needs_background": "light"
     },
     "output_type": "display_data"
    }
   ],
   "source": [
    "ds_ADP.plot()"
   ]
  },
  {
   "cell_type": "code",
   "execution_count": 11,
   "metadata": {},
   "outputs": [
    {
     "data": {
      "image/png": "[encoded data removed]",
      "text/plain": [
       "<Figure size 432x288 with 1 Axes>"
      ]
     },
     "execution_count": 11,
     "metadata": {},
     "output_type": "execute_result"
    },
    {
     "data": {
      "image/png": "[encoded data removed]",
      "text/plain": [
       "<Figure size 432x288 with 1 Axes>"
      ]
     },
     "metadata": {
      "needs_background": "light"
     },
     "output_type": "display_data"
    }
   ],
   "source": [
    "from statsmodels.graphics.tsaplots import plot_acf\n",
    "plot_acf(ds_ADP)"
   ]
  },
  {
   "cell_type": "markdown",
   "metadata": {},
   "source": [
    "# Converting series to stationary"
   ]
  },
  {
   "cell_type": "code",
   "execution_count": 12,
   "metadata": {},
   "outputs": [
    {
     "data": {
      "text/html": [
       "<div>\n",
       "<style scoped>\n",
       "    .dataframe tbody tr th:only-of-type {\n",
       "        vertical-align: middle;\n",
       "    }\n",
       "\n",
       "    .dataframe tbody tr th {\n",
       "        vertical-align: top;\n",
       "    }\n",
       "\n",
       "    .dataframe thead th {\n",
       "        text-align: right;\n",
       "    }\n",
       "</style>\n",
       "<table border=\"1\" class=\"dataframe\">\n",
       "  <thead>\n",
       "    <tr style=\"text-align: right;\">\n",
       "      <th></th>\n",
       "      <th>NASDAQ.ADP</th>\n",
       "    </tr>\n",
       "    <tr>\n",
       "      <th>DATE</th>\n",
       "      <th></th>\n",
       "    </tr>\n",
       "  </thead>\n",
       "  <tbody>\n",
       "    <tr>\n",
       "      <th>2017-04-03 13:30:00</th>\n",
       "      <td>NaN</td>\n",
       "    </tr>\n",
       "    <tr>\n",
       "      <th>2017-04-03 13:31:00</th>\n",
       "      <td>102.2300</td>\n",
       "    </tr>\n",
       "    <tr>\n",
       "      <th>2017-04-03 13:32:00</th>\n",
       "      <td>102.1400</td>\n",
       "    </tr>\n",
       "    <tr>\n",
       "      <th>2017-04-03 13:33:00</th>\n",
       "      <td>102.2125</td>\n",
       "    </tr>\n",
       "    <tr>\n",
       "      <th>2017-04-03 13:34:00</th>\n",
       "      <td>102.1400</td>\n",
       "    </tr>\n",
       "    <tr>\n",
       "      <th>2017-04-03 13:35:00</th>\n",
       "      <td>102.0600</td>\n",
       "    </tr>\n",
       "    <tr>\n",
       "      <th>2017-04-03 13:36:00</th>\n",
       "      <td>102.0400</td>\n",
       "    </tr>\n",
       "    <tr>\n",
       "      <th>2017-04-03 13:37:00</th>\n",
       "      <td>102.3300</td>\n",
       "    </tr>\n",
       "    <tr>\n",
       "      <th>2017-04-03 13:38:00</th>\n",
       "      <td>102.3700</td>\n",
       "    </tr>\n",
       "    <tr>\n",
       "      <th>2017-04-03 13:39:00</th>\n",
       "      <td>102.3800</td>\n",
       "    </tr>\n",
       "    <tr>\n",
       "      <th>2017-04-03 13:40:00</th>\n",
       "      <td>102.3300</td>\n",
       "    </tr>\n",
       "    <tr>\n",
       "      <th>2017-04-03 13:41:00</th>\n",
       "      <td>102.2000</td>\n",
       "    </tr>\n",
       "    <tr>\n",
       "      <th>2017-04-03 13:42:00</th>\n",
       "      <td>102.2800</td>\n",
       "    </tr>\n",
       "    <tr>\n",
       "      <th>2017-04-03 13:43:00</th>\n",
       "      <td>102.2700</td>\n",
       "    </tr>\n",
       "    <tr>\n",
       "      <th>2017-04-03 13:44:00</th>\n",
       "      <td>102.3100</td>\n",
       "    </tr>\n",
       "    <tr>\n",
       "      <th>2017-04-03 13:45:00</th>\n",
       "      <td>102.3200</td>\n",
       "    </tr>\n",
       "    <tr>\n",
       "      <th>2017-04-03 13:46:00</th>\n",
       "      <td>102.2800</td>\n",
       "    </tr>\n",
       "    <tr>\n",
       "      <th>2017-04-03 13:47:00</th>\n",
       "      <td>102.3000</td>\n",
       "    </tr>\n",
       "    <tr>\n",
       "      <th>2017-04-03 13:48:00</th>\n",
       "      <td>102.2100</td>\n",
       "    </tr>\n",
       "    <tr>\n",
       "      <th>2017-04-03 13:49:00</th>\n",
       "      <td>102.1700</td>\n",
       "    </tr>\n",
       "    <tr>\n",
       "      <th>2017-04-03 13:50:00</th>\n",
       "      <td>102.1800</td>\n",
       "    </tr>\n",
       "    <tr>\n",
       "      <th>2017-04-03 13:51:00</th>\n",
       "      <td>102.1500</td>\n",
       "    </tr>\n",
       "    <tr>\n",
       "      <th>2017-04-03 13:52:00</th>\n",
       "      <td>102.1900</td>\n",
       "    </tr>\n",
       "    <tr>\n",
       "      <th>2017-04-03 13:53:00</th>\n",
       "      <td>102.2200</td>\n",
       "    </tr>\n",
       "    <tr>\n",
       "      <th>2017-04-03 13:54:00</th>\n",
       "      <td>102.2100</td>\n",
       "    </tr>\n",
       "    <tr>\n",
       "      <th>2017-04-03 13:55:00</th>\n",
       "      <td>102.2100</td>\n",
       "    </tr>\n",
       "    <tr>\n",
       "      <th>2017-04-03 13:56:00</th>\n",
       "      <td>102.1700</td>\n",
       "    </tr>\n",
       "    <tr>\n",
       "      <th>2017-04-03 13:57:00</th>\n",
       "      <td>102.1900</td>\n",
       "    </tr>\n",
       "    <tr>\n",
       "      <th>2017-04-03 13:58:00</th>\n",
       "      <td>102.2000</td>\n",
       "    </tr>\n",
       "    <tr>\n",
       "      <th>2017-04-03 13:59:00</th>\n",
       "      <td>102.2500</td>\n",
       "    </tr>\n",
       "    <tr>\n",
       "      <th>...</th>\n",
       "      <td>...</td>\n",
       "    </tr>\n",
       "    <tr>\n",
       "      <th>2017-08-31 19:31:00</th>\n",
       "      <td>106.4600</td>\n",
       "    </tr>\n",
       "    <tr>\n",
       "      <th>2017-08-31 19:32:00</th>\n",
       "      <td>106.4600</td>\n",
       "    </tr>\n",
       "    <tr>\n",
       "      <th>2017-08-31 19:33:00</th>\n",
       "      <td>106.4600</td>\n",
       "    </tr>\n",
       "    <tr>\n",
       "      <th>2017-08-31 19:34:00</th>\n",
       "      <td>106.5000</td>\n",
       "    </tr>\n",
       "    <tr>\n",
       "      <th>2017-08-31 19:35:00</th>\n",
       "      <td>106.4900</td>\n",
       "    </tr>\n",
       "    <tr>\n",
       "      <th>2017-08-31 19:36:00</th>\n",
       "      <td>106.5100</td>\n",
       "    </tr>\n",
       "    <tr>\n",
       "      <th>2017-08-31 19:37:00</th>\n",
       "      <td>106.5400</td>\n",
       "    </tr>\n",
       "    <tr>\n",
       "      <th>2017-08-31 19:38:00</th>\n",
       "      <td>106.6000</td>\n",
       "    </tr>\n",
       "    <tr>\n",
       "      <th>2017-08-31 19:39:00</th>\n",
       "      <td>106.6300</td>\n",
       "    </tr>\n",
       "    <tr>\n",
       "      <th>2017-08-31 19:40:00</th>\n",
       "      <td>106.6550</td>\n",
       "    </tr>\n",
       "    <tr>\n",
       "      <th>2017-08-31 19:41:00</th>\n",
       "      <td>106.6500</td>\n",
       "    </tr>\n",
       "    <tr>\n",
       "      <th>2017-08-31 19:42:00</th>\n",
       "      <td>106.6600</td>\n",
       "    </tr>\n",
       "    <tr>\n",
       "      <th>2017-08-31 19:43:00</th>\n",
       "      <td>106.6900</td>\n",
       "    </tr>\n",
       "    <tr>\n",
       "      <th>2017-08-31 19:44:00</th>\n",
       "      <td>106.7050</td>\n",
       "    </tr>\n",
       "    <tr>\n",
       "      <th>2017-08-31 19:45:00</th>\n",
       "      <td>106.7800</td>\n",
       "    </tr>\n",
       "    <tr>\n",
       "      <th>2017-08-31 19:46:00</th>\n",
       "      <td>106.7400</td>\n",
       "    </tr>\n",
       "    <tr>\n",
       "      <th>2017-08-31 19:47:00</th>\n",
       "      <td>106.6600</td>\n",
       "    </tr>\n",
       "    <tr>\n",
       "      <th>2017-08-31 19:48:00</th>\n",
       "      <td>106.6200</td>\n",
       "    </tr>\n",
       "    <tr>\n",
       "      <th>2017-08-31 19:49:00</th>\n",
       "      <td>106.6500</td>\n",
       "    </tr>\n",
       "    <tr>\n",
       "      <th>2017-08-31 19:50:00</th>\n",
       "      <td>106.6500</td>\n",
       "    </tr>\n",
       "    <tr>\n",
       "      <th>2017-08-31 19:51:00</th>\n",
       "      <td>106.6500</td>\n",
       "    </tr>\n",
       "    <tr>\n",
       "      <th>2017-08-31 19:52:00</th>\n",
       "      <td>106.6200</td>\n",
       "    </tr>\n",
       "    <tr>\n",
       "      <th>2017-08-31 19:53:00</th>\n",
       "      <td>106.5600</td>\n",
       "    </tr>\n",
       "    <tr>\n",
       "      <th>2017-08-31 19:54:00</th>\n",
       "      <td>106.6200</td>\n",
       "    </tr>\n",
       "    <tr>\n",
       "      <th>2017-08-31 19:55:00</th>\n",
       "      <td>106.6000</td>\n",
       "    </tr>\n",
       "    <tr>\n",
       "      <th>2017-08-31 19:56:00</th>\n",
       "      <td>106.6300</td>\n",
       "    </tr>\n",
       "    <tr>\n",
       "      <th>2017-08-31 19:57:00</th>\n",
       "      <td>106.5650</td>\n",
       "    </tr>\n",
       "    <tr>\n",
       "      <th>2017-08-31 19:58:00</th>\n",
       "      <td>106.5900</td>\n",
       "    </tr>\n",
       "    <tr>\n",
       "      <th>2017-08-31 19:59:00</th>\n",
       "      <td>106.5200</td>\n",
       "    </tr>\n",
       "    <tr>\n",
       "      <th>2017-08-31 20:00:00</th>\n",
       "      <td>106.4000</td>\n",
       "    </tr>\n",
       "  </tbody>\n",
       "</table>\n",
       "<p>41266 rows × 1 columns</p>\n",
       "</div>"
      ],
      "text/plain": [
       "                     NASDAQ.ADP\n",
       "DATE                           \n",
       "2017-04-03 13:30:00         NaN\n",
       "2017-04-03 13:31:00    102.2300\n",
       "2017-04-03 13:32:00    102.1400\n",
       "2017-04-03 13:33:00    102.2125\n",
       "2017-04-03 13:34:00    102.1400\n",
       "2017-04-03 13:35:00    102.0600\n",
       "2017-04-03 13:36:00    102.0400\n",
       "2017-04-03 13:37:00    102.3300\n",
       "2017-04-03 13:38:00    102.3700\n",
       "2017-04-03 13:39:00    102.3800\n",
       "2017-04-03 13:40:00    102.3300\n",
       "2017-04-03 13:41:00    102.2000\n",
       "2017-04-03 13:42:00    102.2800\n",
       "2017-04-03 13:43:00    102.2700\n",
       "2017-04-03 13:44:00    102.3100\n",
       "2017-04-03 13:45:00    102.3200\n",
       "2017-04-03 13:46:00    102.2800\n",
       "2017-04-03 13:47:00    102.3000\n",
       "2017-04-03 13:48:00    102.2100\n",
       "2017-04-03 13:49:00    102.1700\n",
       "2017-04-03 13:50:00    102.1800\n",
       "2017-04-03 13:51:00    102.1500\n",
       "2017-04-03 13:52:00    102.1900\n",
       "2017-04-03 13:53:00    102.2200\n",
       "2017-04-03 13:54:00    102.2100\n",
       "2017-04-03 13:55:00    102.2100\n",
       "2017-04-03 13:56:00    102.1700\n",
       "2017-04-03 13:57:00    102.1900\n",
       "2017-04-03 13:58:00    102.2000\n",
       "2017-04-03 13:59:00    102.2500\n",
       "...                         ...\n",
       "2017-08-31 19:31:00    106.4600\n",
       "2017-08-31 19:32:00    106.4600\n",
       "2017-08-31 19:33:00    106.4600\n",
       "2017-08-31 19:34:00    106.5000\n",
       "2017-08-31 19:35:00    106.4900\n",
       "2017-08-31 19:36:00    106.5100\n",
       "2017-08-31 19:37:00    106.5400\n",
       "2017-08-31 19:38:00    106.6000\n",
       "2017-08-31 19:39:00    106.6300\n",
       "2017-08-31 19:40:00    106.6550\n",
       "2017-08-31 19:41:00    106.6500\n",
       "2017-08-31 19:42:00    106.6600\n",
       "2017-08-31 19:43:00    106.6900\n",
       "2017-08-31 19:44:00    106.7050\n",
       "2017-08-31 19:45:00    106.7800\n",
       "2017-08-31 19:46:00    106.7400\n",
       "2017-08-31 19:47:00    106.6600\n",
       "2017-08-31 19:48:00    106.6200\n",
       "2017-08-31 19:49:00    106.6500\n",
       "2017-08-31 19:50:00    106.6500\n",
       "2017-08-31 19:51:00    106.6500\n",
       "2017-08-31 19:52:00    106.6200\n",
       "2017-08-31 19:53:00    106.5600\n",
       "2017-08-31 19:54:00    106.6200\n",
       "2017-08-31 19:55:00    106.6000\n",
       "2017-08-31 19:56:00    106.6300\n",
       "2017-08-31 19:57:00    106.5650\n",
       "2017-08-31 19:58:00    106.5900\n",
       "2017-08-31 19:59:00    106.5200\n",
       "2017-08-31 20:00:00    106.4000\n",
       "\n",
       "[41266 rows x 1 columns]"
      ]
     },
     "execution_count": 12,
     "metadata": {},
     "output_type": "execute_result"
    }
   ],
   "source": [
    "ds_ADP.shift(1)"
   ]
  },
  {
   "cell_type": "code",
   "execution_count": 13,
   "metadata": {},
   "outputs": [
    {
     "name": "stdout",
     "output_type": "stream",
     "text": [
      "28886\n",
      "12380\n"
     ]
    }
   ],
   "source": [
    "X = ds_ADP.values\n",
    "train = X[0:28886] # 27 data as train data\n",
    "test = X[28886:] # 9 data as test data\n",
    "print(train.size)\n",
    "print(test.size)\n",
    "predictions = []"
   ]
  },
  {
   "cell_type": "markdown",
   "metadata": {},
   "source": [
    "# ARIMA Model"
   ]
  },
  {
   "cell_type": "code",
   "execution_count": 16,
   "metadata": {},
   "outputs": [],
   "source": [
    "p=d=q=range(0,6)\n",
    "pdq=list(itertools.product(p,d,q))"
   ]
  },
  {
   "cell_type": "code",
   "execution_count": 17,
   "metadata": {},
   "outputs": [
    {
     "name": "stdout",
     "output_type": "stream",
     "text": [
      "(0, 0, 0) 124317.93290534396\n",
      "(0, 0, 1) 85271.48908067054\n",
      "(0, 1, 0) -80762.52187440007\n",
      "(0, 1, 1) -81075.63405539679\n",
      "(0, 1, 2) -81074.1728681155\n",
      "(0, 1, 3) -81090.0071567385\n",
      "(0, 1, 4) -81093.9847206518\n",
      "(0, 1, 5) -81101.8757667083\n",
      "(0, 2, 0) -63874.98955883522\n",
      "(0, 2, 1) -80619.27213013051\n",
      "(0, 2, 2) -80936.04768363845\n",
      "(1, 0, 0) -80762.97956336921\n",
      "(1, 0, 1) -81077.32276405522\n",
      "(1, 0, 2) -81075.79810997652\n",
      "(1, 0, 3) -81091.2645973993\n",
      "(1, 0, 4) -81095.05246454725\n",
      "(1, 0, 5) -81102.70785603981\n",
      "(1, 1, 0) -81067.89180999978\n",
      "(1, 1, 1) -81073.99649146204\n",
      "(1, 1, 2) -81099.2410569745\n",
      "(1, 1, 3) -81095.9904305218\n",
      "(1, 2, 0) -70003.48847377118\n",
      "(1, 2, 1) -80988.2023312846\n",
      "(1, 2, 2) -80947.34892070795\n",
      "(1, 2, 4) -81035.17791300321\n",
      "(1, 2, 5) -81031.5441123313\n",
      "(2, 0, 0) -81069.70670007085\n",
      "(2, 0, 1) -81075.64369758981\n",
      "(2, 0, 2) -81098.79258254182\n",
      "(2, 0, 3) -81096.91027917521\n",
      "(2, 1, 0) -81077.8655053549\n",
      "(2, 1, 1) -81094.92273703193\n",
      "(2, 1, 2) -81099.54378045718\n",
      "(2, 1, 3) -81102.2379677377\n",
      "(2, 2, 0) -72749.7711026515\n",
      "(2, 2, 1) -81061.90881587214\n",
      "(2, 2, 3) -81021.42809565544\n",
      "(2, 2, 4) -81043.83256125682\n",
      "(2, 2, 5) -81052.0091029801\n",
      "(3, 0, 0) -81079.39163663337\n",
      "(3, 0, 1) -81095.76897032885\n",
      "(3, 0, 2) -81100.54089678792\n",
      "(3, 0, 3) -81101.83695161866\n",
      "(3, 1, 0) -81094.16479611794\n",
      "(3, 1, 1) -81097.3675338741\n",
      "(3, 1, 2) -81096.2616106991\n",
      "(3, 2, 0) -74476.14609278402\n",
      "(3, 2, 1) -80969.16936670199\n",
      "(3, 2, 2) -80956.53043944771\n",
      "(3, 2, 3) -81001.41721489497\n",
      "(3, 2, 4) -80977.34910580197\n",
      "(3, 2, 5) -81013.35099740756\n",
      "(4, 0, 0) -81095.34991448637\n",
      "(4, 0, 1) -81098.32395001108\n",
      "(4, 0, 2) -81097.18215429035\n",
      "(4, 1, 0) -81097.17030791317\n",
      "(4, 1, 1) -81096.21273806541\n",
      "(4, 1, 2) -81128.91085880478\n",
      "(4, 2, 0) -75596.42990903037\n",
      "(4, 2, 1) -81064.17067917254\n",
      "(4, 2, 2) -81020.02450587157\n",
      "(4, 2, 3) -81000.86728084211\n",
      "(4, 2, 4) -81042.89062434273\n",
      "(4, 2, 5) -80988.96592732392\n",
      "(5, 0, 0) -81098.18461587111\n",
      "(5, 0, 1) -81097.16618121453\n",
      "(5, 0, 2) -81095.69639432983\n",
      "(5, 1, 0) -81099.36505024966\n",
      "(5, 1, 1) -81103.15851216407\n",
      "(5, 1, 2) -81105.15058086744\n",
      "(5, 1, 3) -81130.10641884779\n",
      "(5, 1, 4) -81130.41818744793\n",
      "(5, 1, 5) -81152.0599616287\n",
      "(5, 2, 0) -76654.96141421901\n",
      "(5, 2, 1) -81072.36677467324\n",
      "(5, 2, 2) -81035.03377890248\n",
      "(5, 2, 3) -81059.19346330834\n",
      "(5, 2, 4) -81010.30835738171\n",
      "(5, 2, 5) -81003.05668688483\n"
     ]
    }
   ],
   "source": [
    "warnings.filterwarnings('ignore')\n",
    "for param in pdq:\n",
    "    try:\n",
    "        model_arima = ARIMA(train, order=param)\n",
    "        model_arima_fit = model_arima.fit()\n",
    "        print(param,model_arima_fit.aic)\n",
    "    except:\n",
    "        continue"
   ]
  },
  {
   "cell_type": "code",
   "execution_count": 18,
   "metadata": {},
   "outputs": [
    {
     "name": "stdout",
     "output_type": "stream",
     "text": [
      "-81128.91085880478\n"
     ]
    }
   ],
   "source": [
    "model_arima = ARIMA(train, order=(4,1,2))\n",
    "model_arima_fit = model_arima.fit()\n",
    "print(model_arima_fit.aic)"
   ]
  },
  {
   "cell_type": "code",
   "execution_count": 19,
   "metadata": {},
   "outputs": [
    {
     "data": {
      "text/plain": [
       "array([102.67236877, 102.67249743, 102.67191894, ..., 102.86041868,\n",
       "       102.86043395, 102.86044922])"
      ]
     },
     "execution_count": 19,
     "metadata": {},
     "output_type": "execute_result"
    }
   ],
   "source": [
    "predictions = model_arima_fit.forecast(steps=12380)[0]\n",
    "predictions"
   ]
  },
  {
   "cell_type": "code",
   "execution_count": 20,
   "metadata": {},
   "outputs": [
    {
     "data": {
      "text/plain": [
       "[<matplotlib.lines.Line2D at 0x54780b8>]"
      ]
     },
     "execution_count": 20,
     "metadata": {},
     "output_type": "execute_result"
    },
    {
     "data": {
      "image/png": "[encoded data removed]",
      "text/plain": [
       "<Figure size 432x288 with 1 Axes>"
      ]
     },
     "metadata": {
      "needs_background": "light"
     },
     "output_type": "display_data"
    }
   ],
   "source": [
    "plt.plot(test)\n",
    "plt.plot(predictions, color='red')"
   ]
  },
  {
   "cell_type": "markdown",
   "metadata": {},
   "source": [
    "# Forecasting for NASDAQ.CBOE"
   ]
  },
  {
   "cell_type": "code",
   "execution_count": 25,
   "metadata": {},
   "outputs": [],
   "source": [
    "ds_CBOE = ds[['NASDAQ.CBOE']].copy()"
   ]
  },
  {
   "cell_type": "code",
   "execution_count": 27,
   "metadata": {},
   "outputs": [
    {
     "data": {
      "text/html": [
       "<div>\n",
       "<style scoped>\n",
       "    .dataframe tbody tr th:only-of-type {\n",
       "        vertical-align: middle;\n",
       "    }\n",
       "\n",
       "    .dataframe tbody tr th {\n",
       "        vertical-align: top;\n",
       "    }\n",
       "\n",
       "    .dataframe thead th {\n",
       "        text-align: right;\n",
       "    }\n",
       "</style>\n",
       "<table border=\"1\" class=\"dataframe\">\n",
       "  <thead>\n",
       "    <tr style=\"text-align: right;\">\n",
       "      <th></th>\n",
       "      <th>NASDAQ.CBOE</th>\n",
       "    </tr>\n",
       "    <tr>\n",
       "      <th>DATE</th>\n",
       "      <th></th>\n",
       "    </tr>\n",
       "  </thead>\n",
       "  <tbody>\n",
       "    <tr>\n",
       "      <th>2017-08-31 19:56:00</th>\n",
       "      <td>100.89</td>\n",
       "    </tr>\n",
       "    <tr>\n",
       "      <th>2017-08-31 19:57:00</th>\n",
       "      <td>100.88</td>\n",
       "    </tr>\n",
       "    <tr>\n",
       "      <th>2017-08-31 19:58:00</th>\n",
       "      <td>100.86</td>\n",
       "    </tr>\n",
       "    <tr>\n",
       "      <th>2017-08-31 19:59:00</th>\n",
       "      <td>100.83</td>\n",
       "    </tr>\n",
       "    <tr>\n",
       "      <th>2017-08-31 20:00:00</th>\n",
       "      <td>100.89</td>\n",
       "    </tr>\n",
       "  </tbody>\n",
       "</table>\n",
       "</div>"
      ],
      "text/plain": [
       "                     NASDAQ.CBOE\n",
       "DATE                            \n",
       "2017-08-31 19:56:00       100.89\n",
       "2017-08-31 19:57:00       100.88\n",
       "2017-08-31 19:58:00       100.86\n",
       "2017-08-31 19:59:00       100.83\n",
       "2017-08-31 20:00:00       100.89"
      ]
     },
     "execution_count": 27,
     "metadata": {},
     "output_type": "execute_result"
    }
   ],
   "source": [
    "ds_CBOE.tail()"
   ]
  },
  {
   "cell_type": "code",
   "execution_count": 28,
   "metadata": {},
   "outputs": [
    {
     "data": {
      "text/plain": [
       "NASDAQ.CBOE    41266\n",
       "dtype: int64"
      ]
     },
     "execution_count": 28,
     "metadata": {},
     "output_type": "execute_result"
    }
   ],
   "source": [
    "ds_CBOE.count()"
   ]
  },
  {
   "cell_type": "code",
   "execution_count": 29,
   "metadata": {},
   "outputs": [
    {
     "data": {
      "text/plain": [
       "<matplotlib.axes._subplots.AxesSubplot at 0xb628ac8>"
      ]
     },
     "execution_count": 29,
     "metadata": {},
     "output_type": "execute_result"
    },
    {
     "data": {
      "image/png": "[encoded data removed]",
      "text/plain": [
       "<Figure size 432x288 with 1 Axes>"
      ]
     },
     "metadata": {
      "needs_background": "light"
     },
     "output_type": "display_data"
    }
   ],
   "source": [
    "ds_CBOE.plot()"
   ]
  },
  {
   "cell_type": "code",
   "execution_count": 30,
   "metadata": {},
   "outputs": [
    {
     "data": {
      "image/png": "[encoded data removed]",
      "text/plain": [
       "<Figure size 432x288 with 1 Axes>"
      ]
     },
     "execution_count": 30,
     "metadata": {},
     "output_type": "execute_result"
    },
    {
     "data": {
      "image/png": "[encoded data removed]",
      "text/plain": [
       "<Figure size 432x288 with 1 Axes>"
      ]
     },
     "metadata": {
      "needs_background": "light"
     },
     "output_type": "display_data"
    }
   ],
   "source": [
    "from statsmodels.graphics.tsaplots import plot_acf\n",
    "plot_acf(ds_CBOE)"
   ]
  },
  {
   "cell_type": "markdown",
   "metadata": {},
   "source": [
    "# Converting series to stationary"
   ]
  },
  {
   "cell_type": "code",
   "execution_count": 31,
   "metadata": {},
   "outputs": [
    {
     "data": {
      "text/html": [
       "<div>\n",
       "<style scoped>\n",
       "    .dataframe tbody tr th:only-of-type {\n",
       "        vertical-align: middle;\n",
       "    }\n",
       "\n",
       "    .dataframe tbody tr th {\n",
       "        vertical-align: top;\n",
       "    }\n",
       "\n",
       "    .dataframe thead th {\n",
       "        text-align: right;\n",
       "    }\n",
       "</style>\n",
       "<table border=\"1\" class=\"dataframe\">\n",
       "  <thead>\n",
       "    <tr style=\"text-align: right;\">\n",
       "      <th></th>\n",
       "      <th>NASDAQ.CBOE</th>\n",
       "    </tr>\n",
       "    <tr>\n",
       "      <th>DATE</th>\n",
       "      <th></th>\n",
       "    </tr>\n",
       "  </thead>\n",
       "  <tbody>\n",
       "    <tr>\n",
       "      <th>2017-04-03 13:30:00</th>\n",
       "      <td>NaN</td>\n",
       "    </tr>\n",
       "    <tr>\n",
       "      <th>2017-04-03 13:31:00</th>\n",
       "      <td>81.0300</td>\n",
       "    </tr>\n",
       "    <tr>\n",
       "      <th>2017-04-03 13:32:00</th>\n",
       "      <td>81.2100</td>\n",
       "    </tr>\n",
       "    <tr>\n",
       "      <th>2017-04-03 13:33:00</th>\n",
       "      <td>81.2100</td>\n",
       "    </tr>\n",
       "    <tr>\n",
       "      <th>2017-04-03 13:34:00</th>\n",
       "      <td>81.1300</td>\n",
       "    </tr>\n",
       "    <tr>\n",
       "      <th>2017-04-03 13:35:00</th>\n",
       "      <td>81.1200</td>\n",
       "    </tr>\n",
       "    <tr>\n",
       "      <th>2017-04-03 13:36:00</th>\n",
       "      <td>81.2200</td>\n",
       "    </tr>\n",
       "    <tr>\n",
       "      <th>2017-04-03 13:37:00</th>\n",
       "      <td>81.1600</td>\n",
       "    </tr>\n",
       "    <tr>\n",
       "      <th>2017-04-03 13:38:00</th>\n",
       "      <td>81.1600</td>\n",
       "    </tr>\n",
       "    <tr>\n",
       "      <th>2017-04-03 13:39:00</th>\n",
       "      <td>81.1600</td>\n",
       "    </tr>\n",
       "    <tr>\n",
       "      <th>2017-04-03 13:40:00</th>\n",
       "      <td>81.1300</td>\n",
       "    </tr>\n",
       "    <tr>\n",
       "      <th>2017-04-03 13:41:00</th>\n",
       "      <td>81.1800</td>\n",
       "    </tr>\n",
       "    <tr>\n",
       "      <th>2017-04-03 13:42:00</th>\n",
       "      <td>81.1850</td>\n",
       "    </tr>\n",
       "    <tr>\n",
       "      <th>2017-04-03 13:43:00</th>\n",
       "      <td>81.2000</td>\n",
       "    </tr>\n",
       "    <tr>\n",
       "      <th>2017-04-03 13:44:00</th>\n",
       "      <td>81.2900</td>\n",
       "    </tr>\n",
       "    <tr>\n",
       "      <th>2017-04-03 13:45:00</th>\n",
       "      <td>81.4100</td>\n",
       "    </tr>\n",
       "    <tr>\n",
       "      <th>2017-04-03 13:46:00</th>\n",
       "      <td>81.3500</td>\n",
       "    </tr>\n",
       "    <tr>\n",
       "      <th>2017-04-03 13:47:00</th>\n",
       "      <td>81.1740</td>\n",
       "    </tr>\n",
       "    <tr>\n",
       "      <th>2017-04-03 13:48:00</th>\n",
       "      <td>80.9790</td>\n",
       "    </tr>\n",
       "    <tr>\n",
       "      <th>2017-04-03 13:49:00</th>\n",
       "      <td>80.9700</td>\n",
       "    </tr>\n",
       "    <tr>\n",
       "      <th>2017-04-03 13:50:00</th>\n",
       "      <td>80.9800</td>\n",
       "    </tr>\n",
       "    <tr>\n",
       "      <th>2017-04-03 13:51:00</th>\n",
       "      <td>80.9866</td>\n",
       "    </tr>\n",
       "    <tr>\n",
       "      <th>2017-04-03 13:52:00</th>\n",
       "      <td>81.0500</td>\n",
       "    </tr>\n",
       "    <tr>\n",
       "      <th>2017-04-03 13:53:00</th>\n",
       "      <td>81.0500</td>\n",
       "    </tr>\n",
       "    <tr>\n",
       "      <th>2017-04-03 13:54:00</th>\n",
       "      <td>81.0900</td>\n",
       "    </tr>\n",
       "    <tr>\n",
       "      <th>2017-04-03 13:55:00</th>\n",
       "      <td>81.0900</td>\n",
       "    </tr>\n",
       "    <tr>\n",
       "      <th>2017-04-03 13:56:00</th>\n",
       "      <td>81.1300</td>\n",
       "    </tr>\n",
       "    <tr>\n",
       "      <th>2017-04-03 13:57:00</th>\n",
       "      <td>81.1000</td>\n",
       "    </tr>\n",
       "    <tr>\n",
       "      <th>2017-04-03 13:58:00</th>\n",
       "      <td>81.0650</td>\n",
       "    </tr>\n",
       "    <tr>\n",
       "      <th>2017-04-03 13:59:00</th>\n",
       "      <td>81.0400</td>\n",
       "    </tr>\n",
       "    <tr>\n",
       "      <th>...</th>\n",
       "      <td>...</td>\n",
       "    </tr>\n",
       "    <tr>\n",
       "      <th>2017-08-31 19:31:00</th>\n",
       "      <td>101.1000</td>\n",
       "    </tr>\n",
       "    <tr>\n",
       "      <th>2017-08-31 19:32:00</th>\n",
       "      <td>101.0600</td>\n",
       "    </tr>\n",
       "    <tr>\n",
       "      <th>2017-08-31 19:33:00</th>\n",
       "      <td>101.0000</td>\n",
       "    </tr>\n",
       "    <tr>\n",
       "      <th>2017-08-31 19:34:00</th>\n",
       "      <td>101.0200</td>\n",
       "    </tr>\n",
       "    <tr>\n",
       "      <th>2017-08-31 19:35:00</th>\n",
       "      <td>101.0200</td>\n",
       "    </tr>\n",
       "    <tr>\n",
       "      <th>2017-08-31 19:36:00</th>\n",
       "      <td>101.0000</td>\n",
       "    </tr>\n",
       "    <tr>\n",
       "      <th>2017-08-31 19:37:00</th>\n",
       "      <td>101.0150</td>\n",
       "    </tr>\n",
       "    <tr>\n",
       "      <th>2017-08-31 19:38:00</th>\n",
       "      <td>101.0150</td>\n",
       "    </tr>\n",
       "    <tr>\n",
       "      <th>2017-08-31 19:39:00</th>\n",
       "      <td>101.0125</td>\n",
       "    </tr>\n",
       "    <tr>\n",
       "      <th>2017-08-31 19:40:00</th>\n",
       "      <td>101.0000</td>\n",
       "    </tr>\n",
       "    <tr>\n",
       "      <th>2017-08-31 19:41:00</th>\n",
       "      <td>101.0200</td>\n",
       "    </tr>\n",
       "    <tr>\n",
       "      <th>2017-08-31 19:42:00</th>\n",
       "      <td>101.0199</td>\n",
       "    </tr>\n",
       "    <tr>\n",
       "      <th>2017-08-31 19:43:00</th>\n",
       "      <td>100.9500</td>\n",
       "    </tr>\n",
       "    <tr>\n",
       "      <th>2017-08-31 19:44:00</th>\n",
       "      <td>100.9600</td>\n",
       "    </tr>\n",
       "    <tr>\n",
       "      <th>2017-08-31 19:45:00</th>\n",
       "      <td>100.9700</td>\n",
       "    </tr>\n",
       "    <tr>\n",
       "      <th>2017-08-31 19:46:00</th>\n",
       "      <td>100.9400</td>\n",
       "    </tr>\n",
       "    <tr>\n",
       "      <th>2017-08-31 19:47:00</th>\n",
       "      <td>100.9150</td>\n",
       "    </tr>\n",
       "    <tr>\n",
       "      <th>2017-08-31 19:48:00</th>\n",
       "      <td>100.9100</td>\n",
       "    </tr>\n",
       "    <tr>\n",
       "      <th>2017-08-31 19:49:00</th>\n",
       "      <td>100.9000</td>\n",
       "    </tr>\n",
       "    <tr>\n",
       "      <th>2017-08-31 19:50:00</th>\n",
       "      <td>100.8500</td>\n",
       "    </tr>\n",
       "    <tr>\n",
       "      <th>2017-08-31 19:51:00</th>\n",
       "      <td>100.9000</td>\n",
       "    </tr>\n",
       "    <tr>\n",
       "      <th>2017-08-31 19:52:00</th>\n",
       "      <td>100.9200</td>\n",
       "    </tr>\n",
       "    <tr>\n",
       "      <th>2017-08-31 19:53:00</th>\n",
       "      <td>100.8800</td>\n",
       "    </tr>\n",
       "    <tr>\n",
       "      <th>2017-08-31 19:54:00</th>\n",
       "      <td>100.8900</td>\n",
       "    </tr>\n",
       "    <tr>\n",
       "      <th>2017-08-31 19:55:00</th>\n",
       "      <td>100.8800</td>\n",
       "    </tr>\n",
       "    <tr>\n",
       "      <th>2017-08-31 19:56:00</th>\n",
       "      <td>100.8899</td>\n",
       "    </tr>\n",
       "    <tr>\n",
       "      <th>2017-08-31 19:57:00</th>\n",
       "      <td>100.8900</td>\n",
       "    </tr>\n",
       "    <tr>\n",
       "      <th>2017-08-31 19:58:00</th>\n",
       "      <td>100.8800</td>\n",
       "    </tr>\n",
       "    <tr>\n",
       "      <th>2017-08-31 19:59:00</th>\n",
       "      <td>100.8600</td>\n",
       "    </tr>\n",
       "    <tr>\n",
       "      <th>2017-08-31 20:00:00</th>\n",
       "      <td>100.8300</td>\n",
       "    </tr>\n",
       "  </tbody>\n",
       "</table>\n",
       "<p>41266 rows × 1 columns</p>\n",
       "</div>"
      ],
      "text/plain": [
       "                     NASDAQ.CBOE\n",
       "DATE                            \n",
       "2017-04-03 13:30:00          NaN\n",
       "2017-04-03 13:31:00      81.0300\n",
       "2017-04-03 13:32:00      81.2100\n",
       "2017-04-03 13:33:00      81.2100\n",
       "2017-04-03 13:34:00      81.1300\n",
       "2017-04-03 13:35:00      81.1200\n",
       "2017-04-03 13:36:00      81.2200\n",
       "2017-04-03 13:37:00      81.1600\n",
       "2017-04-03 13:38:00      81.1600\n",
       "2017-04-03 13:39:00      81.1600\n",
       "2017-04-03 13:40:00      81.1300\n",
       "2017-04-03 13:41:00      81.1800\n",
       "2017-04-03 13:42:00      81.1850\n",
       "2017-04-03 13:43:00      81.2000\n",
       "2017-04-03 13:44:00      81.2900\n",
       "2017-04-03 13:45:00      81.4100\n",
       "2017-04-03 13:46:00      81.3500\n",
       "2017-04-03 13:47:00      81.1740\n",
       "2017-04-03 13:48:00      80.9790\n",
       "2017-04-03 13:49:00      80.9700\n",
       "2017-04-03 13:50:00      80.9800\n",
       "2017-04-03 13:51:00      80.9866\n",
       "2017-04-03 13:52:00      81.0500\n",
       "2017-04-03 13:53:00      81.0500\n",
       "2017-04-03 13:54:00      81.0900\n",
       "2017-04-03 13:55:00      81.0900\n",
       "2017-04-03 13:56:00      81.1300\n",
       "2017-04-03 13:57:00      81.1000\n",
       "2017-04-03 13:58:00      81.0650\n",
       "2017-04-03 13:59:00      81.0400\n",
       "...                          ...\n",
       "2017-08-31 19:31:00     101.1000\n",
       "2017-08-31 19:32:00     101.0600\n",
       "2017-08-31 19:33:00     101.0000\n",
       "2017-08-31 19:34:00     101.0200\n",
       "2017-08-31 19:35:00     101.0200\n",
       "2017-08-31 19:36:00     101.0000\n",
       "2017-08-31 19:37:00     101.0150\n",
       "2017-08-31 19:38:00     101.0150\n",
       "2017-08-31 19:39:00     101.0125\n",
       "2017-08-31 19:40:00     101.0000\n",
       "2017-08-31 19:41:00     101.0200\n",
       "2017-08-31 19:42:00     101.0199\n",
       "2017-08-31 19:43:00     100.9500\n",
       "2017-08-31 19:44:00     100.9600\n",
       "2017-08-31 19:45:00     100.9700\n",
       "2017-08-31 19:46:00     100.9400\n",
       "2017-08-31 19:47:00     100.9150\n",
       "2017-08-31 19:48:00     100.9100\n",
       "2017-08-31 19:49:00     100.9000\n",
       "2017-08-31 19:50:00     100.8500\n",
       "2017-08-31 19:51:00     100.9000\n",
       "2017-08-31 19:52:00     100.9200\n",
       "2017-08-31 19:53:00     100.8800\n",
       "2017-08-31 19:54:00     100.8900\n",
       "2017-08-31 19:55:00     100.8800\n",
       "2017-08-31 19:56:00     100.8899\n",
       "2017-08-31 19:57:00     100.8900\n",
       "2017-08-31 19:58:00     100.8800\n",
       "2017-08-31 19:59:00     100.8600\n",
       "2017-08-31 20:00:00     100.8300\n",
       "\n",
       "[41266 rows x 1 columns]"
      ]
     },
     "execution_count": 31,
     "metadata": {},
     "output_type": "execute_result"
    }
   ],
   "source": [
    "ds_CBOE.shift()"
   ]
  },
  {
   "cell_type": "code",
   "execution_count": 32,
   "metadata": {},
   "outputs": [
    {
     "name": "stdout",
     "output_type": "stream",
     "text": [
      "28886\n",
      "12380\n"
     ]
    }
   ],
   "source": [
    "X = ds_CBOE.values\n",
    "train = X[0:28886] # 27 data as train data\n",
    "test = X[28886:] # 9 data as test data\n",
    "print(train.size)\n",
    "print(test.size)\n",
    "predictions = []"
   ]
  },
  {
   "cell_type": "markdown",
   "metadata": {},
   "source": [
    "# ARIMA Model"
   ]
  },
  {
   "cell_type": "code",
   "execution_count": 33,
   "metadata": {},
   "outputs": [],
   "source": [
    "p=d=q=range(0,6)\n",
    "pdq=list(itertools.product(p,d,q))"
   ]
  },
  {
   "cell_type": "code",
   "execution_count": 34,
   "metadata": {},
   "outputs": [
    {
     "name": "stdout",
     "output_type": "stream",
     "text": [
      "(0, 0, 0) 160441.4526311847\n",
      "(0, 0, 1) 120929.59019310394\n",
      "(0, 0, 2) 84758.36964536618\n",
      "(0, 0, 3) 55390.60392935455\n",
      "(0, 0, 4) 31372.18520404792\n",
      "(0, 0, 5) 13453.730162693828\n",
      "(0, 1, 0) -96706.67408377732\n",
      "(0, 1, 1) -96892.89650022525\n",
      "(0, 1, 2) -96935.96404095054\n",
      "(0, 1, 3) -96983.58417789279\n",
      "(0, 1, 4) -97006.34469209127\n",
      "(0, 1, 5) -97010.43101367731\n",
      "(0, 2, 0) -74533.99722002604\n",
      "(0, 2, 1) -96689.98891940528\n",
      "(1, 0, 0) -96696.92223600348\n",
      "(1, 0, 1) -96882.56874827266\n",
      "(1, 0, 2) -96925.32067835293\n",
      "(1, 0, 3) -96972.59913874295\n",
      "(1, 0, 4) -96995.11573387746\n",
      "(1, 0, 5) -96999.083405932\n",
      "(1, 1, 0) -96878.5810170069\n",
      "(1, 1, 1) -97008.39440809174\n",
      "(1, 1, 2) -97009.50772281228\n",
      "(1, 1, 3) -97011.95989995905\n",
      "(1, 1, 4) -97010.37293923095\n",
      "(1, 2, 0) -83690.5018605512\n",
      "(2, 0, 0) -96868.3419158049\n",
      "(2, 0, 1) -96994.58085066639\n",
      "(2, 0, 2) -96995.52870372945\n",
      "(2, 0, 3) -96998.26825901383\n",
      "(2, 0, 4) -96996.79907968364\n",
      "(2, 1, 0) -96917.69444348385\n",
      "(2, 1, 1) -97009.65907551783\n",
      "(2, 1, 2) -97018.18926768647\n",
      "(2, 1, 3) -97010.11735506299\n",
      "(2, 2, 0) -87264.64847210034\n",
      "(3, 0, 0) -96907.2045449065\n",
      "(3, 0, 1) -96995.73412381287\n",
      "(3, 0, 2) -97006.6268500053\n",
      "(3, 0, 3) -96996.51755071752\n",
      "(3, 1, 0) -96964.94834355389\n",
      "(3, 1, 1) -97011.8552500602\n",
      "(3, 1, 2) -97016.19077939341\n",
      "(3, 1, 3) -97015.47300043736\n",
      "(3, 2, 0) -89306.9526749279\n",
      "(4, 0, 0) -96954.16934183936\n",
      "(4, 0, 1) -97000.35912546614\n",
      "(4, 0, 2) -97002.42267657921\n",
      "(4, 0, 3) -97001.59261081406\n",
      "(4, 1, 0) -96994.95216769529\n",
      "(4, 1, 1) -97010.0883427217\n",
      "(4, 2, 0) -90700.63672977193\n",
      "(4, 2, 1) -96965.70870062326\n",
      "(5, 0, 0) -96983.92843238689\n",
      "(5, 0, 1) -96996.23756091099\n",
      "(5, 1, 0) -97006.26867124315\n",
      "(5, 1, 1) -97018.90539527671\n",
      "(5, 2, 0) -91848.36214052413\n",
      "(5, 2, 1) -96883.05870047542\n",
      "(5, 2, 2) -96961.57745616128\n",
      "(5, 2, 3) -96941.90903330837\n",
      "(5, 2, 4) -96965.4610655355\n"
     ]
    }
   ],
   "source": [
    "warnings.filterwarnings('ignore')\n",
    "for param in pdq:\n",
    "    try:\n",
    "        model_arima = ARIMA(train, order=param)\n",
    "        model_arima_fit = model_arima.fit()\n",
    "        print(param,model_arima_fit.aic)\n",
    "    except:\n",
    "        continue"
   ]
  },
  {
   "cell_type": "code",
   "execution_count": 36,
   "metadata": {},
   "outputs": [
    {
     "name": "stdout",
     "output_type": "stream",
     "text": [
      "-89306.9526749279\n"
     ]
    }
   ],
   "source": [
    "model_arima = ARIMA(train, order=(3,2,0))\n",
    "model_arima_fit = model_arima.fit()\n",
    "print(model_arima_fit.aic)"
   ]
  },
  {
   "cell_type": "code",
   "execution_count": 37,
   "metadata": {},
   "outputs": [
    {
     "data": {
      "text/plain": [
       "array([  92.49840669,   92.498007  ,   92.49224112, ..., -118.30994059,\n",
       "       -118.33928932, -118.36864005])"
      ]
     },
     "execution_count": 37,
     "metadata": {},
     "output_type": "execute_result"
    }
   ],
   "source": [
    "predictions = model_arima_fit.forecast(steps=12380)[0]\n",
    "predictions"
   ]
  },
  {
   "cell_type": "code",
   "execution_count": 38,
   "metadata": {},
   "outputs": [
    {
     "data": {
      "text/plain": [
       "[<matplotlib.lines.Line2D at 0x191bb8d0>]"
      ]
     },
     "execution_count": 38,
     "metadata": {},
     "output_type": "execute_result"
    },
    {
     "data": {
      "image/png": "[encoded data removed]",
      "text/plain": [
       "<Figure size 432x288 with 1 Axes>"
      ]
     },
     "metadata": {
      "needs_background": "light"
     },
     "output_type": "display_data"
    }
   ],
   "source": [
    "plt.plot(test)\n",
    "plt.plot(predictions, color='red')"
   ]
  },
  {
   "cell_type": "markdown",
   "metadata": {},
   "source": [
    "# Forecasting for NASDAQ.CSCO"
   ]
  },
  {
   "cell_type": "code",
   "execution_count": 39,
   "metadata": {},
   "outputs": [],
   "source": [
    "ds_CSCO = ds[['NASDAQ.CSCO']].copy()"
   ]
  },
  {
   "cell_type": "code",
   "execution_count": 40,
   "metadata": {},
   "outputs": [
    {
     "data": {
      "text/html": [
       "<div>\n",
       "<style scoped>\n",
       "    .dataframe tbody tr th:only-of-type {\n",
       "        vertical-align: middle;\n",
       "    }\n",
       "\n",
       "    .dataframe tbody tr th {\n",
       "        vertical-align: top;\n",
       "    }\n",
       "\n",
       "    .dataframe thead th {\n",
       "        text-align: right;\n",
       "    }\n",
       "</style>\n",
       "<table border=\"1\" class=\"dataframe\">\n",
       "  <thead>\n",
       "    <tr style=\"text-align: right;\">\n",
       "      <th></th>\n",
       "      <th>NASDAQ.CSCO</th>\n",
       "    </tr>\n",
       "    <tr>\n",
       "      <th>DATE</th>\n",
       "      <th></th>\n",
       "    </tr>\n",
       "  </thead>\n",
       "  <tbody>\n",
       "    <tr>\n",
       "      <th>2017-08-31 19:56:00</th>\n",
       "      <td>32.185</td>\n",
       "    </tr>\n",
       "    <tr>\n",
       "      <th>2017-08-31 19:57:00</th>\n",
       "      <td>32.200</td>\n",
       "    </tr>\n",
       "    <tr>\n",
       "      <th>2017-08-31 19:58:00</th>\n",
       "      <td>32.200</td>\n",
       "    </tr>\n",
       "    <tr>\n",
       "      <th>2017-08-31 19:59:00</th>\n",
       "      <td>32.195</td>\n",
       "    </tr>\n",
       "    <tr>\n",
       "      <th>2017-08-31 20:00:00</th>\n",
       "      <td>32.225</td>\n",
       "    </tr>\n",
       "  </tbody>\n",
       "</table>\n",
       "</div>"
      ],
      "text/plain": [
       "                     NASDAQ.CSCO\n",
       "DATE                            \n",
       "2017-08-31 19:56:00       32.185\n",
       "2017-08-31 19:57:00       32.200\n",
       "2017-08-31 19:58:00       32.200\n",
       "2017-08-31 19:59:00       32.195\n",
       "2017-08-31 20:00:00       32.225"
      ]
     },
     "execution_count": 40,
     "metadata": {},
     "output_type": "execute_result"
    }
   ],
   "source": [
    "ds_CSCO.tail()"
   ]
  },
  {
   "cell_type": "code",
   "execution_count": 41,
   "metadata": {},
   "outputs": [
    {
     "data": {
      "text/plain": [
       "NASDAQ.CSCO    41266\n",
       "dtype: int64"
      ]
     },
     "execution_count": 41,
     "metadata": {},
     "output_type": "execute_result"
    }
   ],
   "source": [
    "ds_CSCO.count()"
   ]
  },
  {
   "cell_type": "code",
   "execution_count": 42,
   "metadata": {},
   "outputs": [
    {
     "data": {
      "text/plain": [
       "<matplotlib.axes._subplots.AxesSubplot at 0x191f62e8>"
      ]
     },
     "execution_count": 42,
     "metadata": {},
     "output_type": "execute_result"
    },
    {
     "data": {
      "image/png": "[encoded data removed]",
      "text/plain": [
       "<Figure size 432x288 with 1 Axes>"
      ]
     },
     "metadata": {
      "needs_background": "light"
     },
     "output_type": "display_data"
    }
   ],
   "source": [
    "ds_CSCO.plot()"
   ]
  },
  {
   "cell_type": "code",
   "execution_count": 43,
   "metadata": {},
   "outputs": [
    {
     "data": {
      "image/png": "[encoded data removed]",
      "text/plain": [
       "<Figure size 432x288 with 1 Axes>"
      ]
     },
     "execution_count": 43,
     "metadata": {},
     "output_type": "execute_result"
    },
    {
     "data": {
      "image/png": "[encoded data removed]",
      "text/plain": [
       "<Figure size 432x288 with 1 Axes>"
      ]
     },
     "metadata": {
      "needs_background": "light"
     },
     "output_type": "display_data"
    }
   ],
   "source": [
    "from statsmodels.graphics.tsaplots import plot_acf\n",
    "plot_acf(ds_CSCO)"
   ]
  },
  {
   "cell_type": "markdown",
   "metadata": {},
   "source": [
    "# Converting series to stationary"
   ]
  },
  {
   "cell_type": "code",
   "execution_count": 44,
   "metadata": {},
   "outputs": [
    {
     "data": {
      "text/html": [
       "<div>\n",
       "<style scoped>\n",
       "    .dataframe tbody tr th:only-of-type {\n",
       "        vertical-align: middle;\n",
       "    }\n",
       "\n",
       "    .dataframe tbody tr th {\n",
       "        vertical-align: top;\n",
       "    }\n",
       "\n",
       "    .dataframe thead th {\n",
       "        text-align: right;\n",
       "    }\n",
       "</style>\n",
       "<table border=\"1\" class=\"dataframe\">\n",
       "  <thead>\n",
       "    <tr style=\"text-align: right;\">\n",
       "      <th></th>\n",
       "      <th>NASDAQ.CSCO</th>\n",
       "    </tr>\n",
       "    <tr>\n",
       "      <th>DATE</th>\n",
       "      <th></th>\n",
       "    </tr>\n",
       "  </thead>\n",
       "  <tbody>\n",
       "    <tr>\n",
       "      <th>2017-04-03 13:30:00</th>\n",
       "      <td>NaN</td>\n",
       "    </tr>\n",
       "    <tr>\n",
       "      <th>2017-04-03 13:31:00</th>\n",
       "      <td>33.7400</td>\n",
       "    </tr>\n",
       "    <tr>\n",
       "      <th>2017-04-03 13:32:00</th>\n",
       "      <td>33.8800</td>\n",
       "    </tr>\n",
       "    <tr>\n",
       "      <th>2017-04-03 13:33:00</th>\n",
       "      <td>33.9000</td>\n",
       "    </tr>\n",
       "    <tr>\n",
       "      <th>2017-04-03 13:34:00</th>\n",
       "      <td>33.8499</td>\n",
       "    </tr>\n",
       "    <tr>\n",
       "      <th>2017-04-03 13:35:00</th>\n",
       "      <td>33.8400</td>\n",
       "    </tr>\n",
       "    <tr>\n",
       "      <th>2017-04-03 13:36:00</th>\n",
       "      <td>33.8800</td>\n",
       "    </tr>\n",
       "    <tr>\n",
       "      <th>2017-04-03 13:37:00</th>\n",
       "      <td>33.9000</td>\n",
       "    </tr>\n",
       "    <tr>\n",
       "      <th>2017-04-03 13:38:00</th>\n",
       "      <td>33.8900</td>\n",
       "    </tr>\n",
       "    <tr>\n",
       "      <th>2017-04-03 13:39:00</th>\n",
       "      <td>33.9200</td>\n",
       "    </tr>\n",
       "    <tr>\n",
       "      <th>2017-04-03 13:40:00</th>\n",
       "      <td>33.8950</td>\n",
       "    </tr>\n",
       "    <tr>\n",
       "      <th>2017-04-03 13:41:00</th>\n",
       "      <td>33.8950</td>\n",
       "    </tr>\n",
       "    <tr>\n",
       "      <th>2017-04-03 13:42:00</th>\n",
       "      <td>33.8900</td>\n",
       "    </tr>\n",
       "    <tr>\n",
       "      <th>2017-04-03 13:43:00</th>\n",
       "      <td>33.8949</td>\n",
       "    </tr>\n",
       "    <tr>\n",
       "      <th>2017-04-03 13:44:00</th>\n",
       "      <td>33.9000</td>\n",
       "    </tr>\n",
       "    <tr>\n",
       "      <th>2017-04-03 13:45:00</th>\n",
       "      <td>33.9100</td>\n",
       "    </tr>\n",
       "    <tr>\n",
       "      <th>2017-04-03 13:46:00</th>\n",
       "      <td>33.8950</td>\n",
       "    </tr>\n",
       "    <tr>\n",
       "      <th>2017-04-03 13:47:00</th>\n",
       "      <td>33.8950</td>\n",
       "    </tr>\n",
       "    <tr>\n",
       "      <th>2017-04-03 13:48:00</th>\n",
       "      <td>33.8750</td>\n",
       "    </tr>\n",
       "    <tr>\n",
       "      <th>2017-04-03 13:49:00</th>\n",
       "      <td>33.8350</td>\n",
       "    </tr>\n",
       "    <tr>\n",
       "      <th>2017-04-03 13:50:00</th>\n",
       "      <td>33.8539</td>\n",
       "    </tr>\n",
       "    <tr>\n",
       "      <th>2017-04-03 13:51:00</th>\n",
       "      <td>33.8366</td>\n",
       "    </tr>\n",
       "    <tr>\n",
       "      <th>2017-04-03 13:52:00</th>\n",
       "      <td>33.8200</td>\n",
       "    </tr>\n",
       "    <tr>\n",
       "      <th>2017-04-03 13:53:00</th>\n",
       "      <td>33.8300</td>\n",
       "    </tr>\n",
       "    <tr>\n",
       "      <th>2017-04-03 13:54:00</th>\n",
       "      <td>33.8200</td>\n",
       "    </tr>\n",
       "    <tr>\n",
       "      <th>2017-04-03 13:55:00</th>\n",
       "      <td>33.8000</td>\n",
       "    </tr>\n",
       "    <tr>\n",
       "      <th>2017-04-03 13:56:00</th>\n",
       "      <td>33.8000</td>\n",
       "    </tr>\n",
       "    <tr>\n",
       "      <th>2017-04-03 13:57:00</th>\n",
       "      <td>33.7750</td>\n",
       "    </tr>\n",
       "    <tr>\n",
       "      <th>2017-04-03 13:58:00</th>\n",
       "      <td>33.7900</td>\n",
       "    </tr>\n",
       "    <tr>\n",
       "      <th>2017-04-03 13:59:00</th>\n",
       "      <td>33.7762</td>\n",
       "    </tr>\n",
       "    <tr>\n",
       "      <th>...</th>\n",
       "      <td>...</td>\n",
       "    </tr>\n",
       "    <tr>\n",
       "      <th>2017-08-31 19:31:00</th>\n",
       "      <td>32.2650</td>\n",
       "    </tr>\n",
       "    <tr>\n",
       "      <th>2017-08-31 19:32:00</th>\n",
       "      <td>32.2700</td>\n",
       "    </tr>\n",
       "    <tr>\n",
       "      <th>2017-08-31 19:33:00</th>\n",
       "      <td>32.2736</td>\n",
       "    </tr>\n",
       "    <tr>\n",
       "      <th>2017-08-31 19:34:00</th>\n",
       "      <td>32.2800</td>\n",
       "    </tr>\n",
       "    <tr>\n",
       "      <th>2017-08-31 19:35:00</th>\n",
       "      <td>32.2800</td>\n",
       "    </tr>\n",
       "    <tr>\n",
       "      <th>2017-08-31 19:36:00</th>\n",
       "      <td>32.2750</td>\n",
       "    </tr>\n",
       "    <tr>\n",
       "      <th>2017-08-31 19:37:00</th>\n",
       "      <td>32.2800</td>\n",
       "    </tr>\n",
       "    <tr>\n",
       "      <th>2017-08-31 19:38:00</th>\n",
       "      <td>32.2799</td>\n",
       "    </tr>\n",
       "    <tr>\n",
       "      <th>2017-08-31 19:39:00</th>\n",
       "      <td>32.2800</td>\n",
       "    </tr>\n",
       "    <tr>\n",
       "      <th>2017-08-31 19:40:00</th>\n",
       "      <td>32.2750</td>\n",
       "    </tr>\n",
       "    <tr>\n",
       "      <th>2017-08-31 19:41:00</th>\n",
       "      <td>32.2750</td>\n",
       "    </tr>\n",
       "    <tr>\n",
       "      <th>2017-08-31 19:42:00</th>\n",
       "      <td>32.2800</td>\n",
       "    </tr>\n",
       "    <tr>\n",
       "      <th>2017-08-31 19:43:00</th>\n",
       "      <td>32.2900</td>\n",
       "    </tr>\n",
       "    <tr>\n",
       "      <th>2017-08-31 19:44:00</th>\n",
       "      <td>32.2950</td>\n",
       "    </tr>\n",
       "    <tr>\n",
       "      <th>2017-08-31 19:45:00</th>\n",
       "      <td>32.3000</td>\n",
       "    </tr>\n",
       "    <tr>\n",
       "      <th>2017-08-31 19:46:00</th>\n",
       "      <td>32.2900</td>\n",
       "    </tr>\n",
       "    <tr>\n",
       "      <th>2017-08-31 19:47:00</th>\n",
       "      <td>32.2550</td>\n",
       "    </tr>\n",
       "    <tr>\n",
       "      <th>2017-08-31 19:48:00</th>\n",
       "      <td>32.2450</td>\n",
       "    </tr>\n",
       "    <tr>\n",
       "      <th>2017-08-31 19:49:00</th>\n",
       "      <td>32.2450</td>\n",
       "    </tr>\n",
       "    <tr>\n",
       "      <th>2017-08-31 19:50:00</th>\n",
       "      <td>32.2450</td>\n",
       "    </tr>\n",
       "    <tr>\n",
       "      <th>2017-08-31 19:51:00</th>\n",
       "      <td>32.2100</td>\n",
       "    </tr>\n",
       "    <tr>\n",
       "      <th>2017-08-31 19:52:00</th>\n",
       "      <td>32.1900</td>\n",
       "    </tr>\n",
       "    <tr>\n",
       "      <th>2017-08-31 19:53:00</th>\n",
       "      <td>32.1700</td>\n",
       "    </tr>\n",
       "    <tr>\n",
       "      <th>2017-08-31 19:54:00</th>\n",
       "      <td>32.2000</td>\n",
       "    </tr>\n",
       "    <tr>\n",
       "      <th>2017-08-31 19:55:00</th>\n",
       "      <td>32.1900</td>\n",
       "    </tr>\n",
       "    <tr>\n",
       "      <th>2017-08-31 19:56:00</th>\n",
       "      <td>32.1700</td>\n",
       "    </tr>\n",
       "    <tr>\n",
       "      <th>2017-08-31 19:57:00</th>\n",
       "      <td>32.1850</td>\n",
       "    </tr>\n",
       "    <tr>\n",
       "      <th>2017-08-31 19:58:00</th>\n",
       "      <td>32.2000</td>\n",
       "    </tr>\n",
       "    <tr>\n",
       "      <th>2017-08-31 19:59:00</th>\n",
       "      <td>32.2000</td>\n",
       "    </tr>\n",
       "    <tr>\n",
       "      <th>2017-08-31 20:00:00</th>\n",
       "      <td>32.1950</td>\n",
       "    </tr>\n",
       "  </tbody>\n",
       "</table>\n",
       "<p>41266 rows × 1 columns</p>\n",
       "</div>"
      ],
      "text/plain": [
       "                     NASDAQ.CSCO\n",
       "DATE                            \n",
       "2017-04-03 13:30:00          NaN\n",
       "2017-04-03 13:31:00      33.7400\n",
       "2017-04-03 13:32:00      33.8800\n",
       "2017-04-03 13:33:00      33.9000\n",
       "2017-04-03 13:34:00      33.8499\n",
       "2017-04-03 13:35:00      33.8400\n",
       "2017-04-03 13:36:00      33.8800\n",
       "2017-04-03 13:37:00      33.9000\n",
       "2017-04-03 13:38:00      33.8900\n",
       "2017-04-03 13:39:00      33.9200\n",
       "2017-04-03 13:40:00      33.8950\n",
       "2017-04-03 13:41:00      33.8950\n",
       "2017-04-03 13:42:00      33.8900\n",
       "2017-04-03 13:43:00      33.8949\n",
       "2017-04-03 13:44:00      33.9000\n",
       "2017-04-03 13:45:00      33.9100\n",
       "2017-04-03 13:46:00      33.8950\n",
       "2017-04-03 13:47:00      33.8950\n",
       "2017-04-03 13:48:00      33.8750\n",
       "2017-04-03 13:49:00      33.8350\n",
       "2017-04-03 13:50:00      33.8539\n",
       "2017-04-03 13:51:00      33.8366\n",
       "2017-04-03 13:52:00      33.8200\n",
       "2017-04-03 13:53:00      33.8300\n",
       "2017-04-03 13:54:00      33.8200\n",
       "2017-04-03 13:55:00      33.8000\n",
       "2017-04-03 13:56:00      33.8000\n",
       "2017-04-03 13:57:00      33.7750\n",
       "2017-04-03 13:58:00      33.7900\n",
       "2017-04-03 13:59:00      33.7762\n",
       "...                          ...\n",
       "2017-08-31 19:31:00      32.2650\n",
       "2017-08-31 19:32:00      32.2700\n",
       "2017-08-31 19:33:00      32.2736\n",
       "2017-08-31 19:34:00      32.2800\n",
       "2017-08-31 19:35:00      32.2800\n",
       "2017-08-31 19:36:00      32.2750\n",
       "2017-08-31 19:37:00      32.2800\n",
       "2017-08-31 19:38:00      32.2799\n",
       "2017-08-31 19:39:00      32.2800\n",
       "2017-08-31 19:40:00      32.2750\n",
       "2017-08-31 19:41:00      32.2750\n",
       "2017-08-31 19:42:00      32.2800\n",
       "2017-08-31 19:43:00      32.2900\n",
       "2017-08-31 19:44:00      32.2950\n",
       "2017-08-31 19:45:00      32.3000\n",
       "2017-08-31 19:46:00      32.2900\n",
       "2017-08-31 19:47:00      32.2550\n",
       "2017-08-31 19:48:00      32.2450\n",
       "2017-08-31 19:49:00      32.2450\n",
       "2017-08-31 19:50:00      32.2450\n",
       "2017-08-31 19:51:00      32.2100\n",
       "2017-08-31 19:52:00      32.1900\n",
       "2017-08-31 19:53:00      32.1700\n",
       "2017-08-31 19:54:00      32.2000\n",
       "2017-08-31 19:55:00      32.1900\n",
       "2017-08-31 19:56:00      32.1700\n",
       "2017-08-31 19:57:00      32.1850\n",
       "2017-08-31 19:58:00      32.2000\n",
       "2017-08-31 19:59:00      32.2000\n",
       "2017-08-31 20:00:00      32.1950\n",
       "\n",
       "[41266 rows x 1 columns]"
      ]
     },
     "execution_count": 44,
     "metadata": {},
     "output_type": "execute_result"
    }
   ],
   "source": [
    "ds_CSCO.shift()"
   ]
  },
  {
   "cell_type": "code",
   "execution_count": 45,
   "metadata": {},
   "outputs": [
    {
     "name": "stdout",
     "output_type": "stream",
     "text": [
      "28886\n",
      "12380\n"
     ]
    }
   ],
   "source": [
    "X = ds_CSCO.values\n",
    "train = X[0:28886] # 27 data as train data\n",
    "test = X[28886:] # 9 data as test data\n",
    "print(train.size)\n",
    "print(test.size)\n",
    "predictions = []"
   ]
  },
  {
   "cell_type": "markdown",
   "metadata": {},
   "source": [
    "# ARIMA Model"
   ]
  },
  {
   "cell_type": "code",
   "execution_count": 46,
   "metadata": {},
   "outputs": [],
   "source": [
    "p=d=q=range(0,6)\n",
    "pdq=list(itertools.product(p,d,q))"
   ]
  },
  {
   "cell_type": "code",
   "execution_count": 47,
   "metadata": {},
   "outputs": [
    {
     "name": "stdout",
     "output_type": "stream",
     "text": [
      "(0, 0, 0) 85353.81423993816\n",
      "(0, 0, 1) 46052.346167411204\n",
      "(0, 1, 0) -135890.52761203377\n",
      "(0, 1, 1) -135922.78479698207\n",
      "(0, 1, 2) -135956.16202332312\n",
      "(0, 1, 3) -135965.06574970618\n",
      "(0, 1, 4) -136154.95023735648\n",
      "(0, 1, 5) -136204.18413535092\n",
      "(0, 2, 0) -116859.65854105703\n",
      "(0, 2, 1) -135872.3301952898\n",
      "(0, 2, 2) -135770.6167253345\n",
      "(1, 0, 0) -135888.8526647139\n",
      "(1, 0, 1) -135921.3729129046\n",
      "(1, 0, 2) -135954.43801219435\n",
      "(1, 0, 3) -135963.18872367791\n",
      "(1, 0, 4) -136152.55604387505\n",
      "(1, 0, 5) -136202.043477965\n",
      "(1, 1, 0) -135920.5082373689\n",
      "(1, 1, 1) -136015.15611626836\n",
      "(1, 1, 2) -135999.85357076314\n",
      "(1, 1, 3) -136003.85947166797\n",
      "(1, 1, 4) -136198.18162257003\n",
      "(1, 1, 5) -136202.18548550957\n",
      "(1, 2, 0) -123906.59788290782\n",
      "(1, 2, 1) -135902.59423762385\n",
      "(1, 2, 2) -135688.113182156\n",
      "(1, 2, 5) -136098.76315312652\n",
      "(2, 0, 0) -135919.08768158103\n",
      "(2, 0, 1) -136013.6306838829\n",
      "(2, 0, 2) -135997.6167866998\n",
      "(2, 0, 3) -136001.61647112112\n",
      "(2, 0, 4) -136195.91077337554\n",
      "(2, 0, 5) -136200.0478523378\n",
      "(2, 1, 0) -135953.15977253934\n",
      "(2, 1, 1) -136004.25794944464\n",
      "(2, 1, 2) -136044.98015223886\n",
      "(2, 1, 3) -136056.73166672705\n",
      "(2, 1, 4) -136200.05091891345\n",
      "(2, 1, 5) -136202.59683845972\n",
      "(2, 2, 0) -127113.03930365197\n",
      "(2, 2, 1) -135778.4184351783\n",
      "(2, 2, 5) -136112.8115969589\n",
      "(3, 0, 0) -135951.47508509408\n",
      "(3, 0, 1) -136002.0237416886\n",
      "(3, 0, 2) -136042.75772350156\n",
      "(3, 0, 3) -136054.4946763299\n",
      "(3, 0, 4) -136197.8331241527\n",
      "(3, 0, 5) -136200.53854038578\n",
      "(3, 1, 0) -135969.86604391207\n",
      "(3, 1, 1) -136012.27340498642\n",
      "(3, 1, 2) -136059.54738957208\n",
      "(3, 1, 3) -136124.5962025678\n",
      "(3, 1, 4) -136198.8591236241\n",
      "(3, 1, 5) -136198.70375287737\n",
      "(3, 2, 0) -128364.87296316239\n",
      "(3, 2, 5) -136097.02544729883\n",
      "(4, 0, 0) -135967.9987642179\n",
      "(4, 0, 1) -136010.0372244418\n",
      "(4, 0, 2) -136057.3106657646\n",
      "(4, 0, 3) -136122.6181209415\n",
      "(4, 0, 4) -136196.66573351182\n",
      "(4, 0, 5) -136196.7854953693\n",
      "(4, 1, 0) -136147.31677213276\n",
      "(4, 1, 1) -136205.21881090652\n",
      "(4, 1, 2) -136206.09684254014\n",
      "(4, 1, 3) -136204.14049737353\n",
      "(4, 1, 4) -136204.817403402\n",
      "(4, 1, 5) -136208.29607625218\n",
      "(4, 2, 0) -130560.04574849295\n",
      "(4, 2, 1) -135952.36761138315\n",
      "(4, 2, 2) -136132.7429476399\n",
      "(4, 2, 3) -136096.5420713158\n",
      "(4, 2, 4) -136102.15954546822\n",
      "(4, 2, 5) -136087.90385858354\n",
      "(5, 0, 0) -136144.93137955293\n",
      "(5, 0, 1) -136202.98011183628\n",
      "(5, 0, 2) -136203.91397135993\n",
      "(5, 0, 3) -136201.96455699127\n",
      "(5, 0, 4) -136202.6741007453\n",
      "(5, 0, 5) -136206.31104426758\n",
      "(5, 1, 0) -136204.15863825387\n",
      "(5, 1, 1) -136206.401106213\n",
      "(5, 1, 2) -136205.92982335231\n",
      "(5, 2, 0) -131397.71402767033\n",
      "(5, 2, 1) -136120.73129185574\n",
      "(5, 2, 2) -136062.84807059733\n",
      "(5, 2, 3) -136149.55696210178\n",
      "(5, 2, 4) -136108.80168101314\n",
      "(5, 2, 5) -136107.98250934714\n"
     ]
    }
   ],
   "source": [
    "warnings.filterwarnings('ignore')\n",
    "for param in pdq:\n",
    "    try:\n",
    "        model_arima = ARIMA(train, order=param)\n",
    "        model_arima_fit = model_arima.fit()\n",
    "        print(param,model_arima_fit.aic)\n",
    "    except:\n",
    "        continue"
   ]
  },
  {
   "cell_type": "code",
   "execution_count": 52,
   "metadata": {},
   "outputs": [
    {
     "name": "stdout",
     "output_type": "stream",
     "text": [
      "-128364.87296316239\n"
     ]
    }
   ],
   "source": [
    "model_arima = ARIMA(train, order=(3,2,0))\n",
    "model_arima_fit = model_arima.fit()\n",
    "print(model_arima_fit.aic)"
   ]
  },
  {
   "cell_type": "code",
   "execution_count": 53,
   "metadata": {},
   "outputs": [
    {
     "data": {
      "text/plain": [
       "[<matplotlib.lines.Line2D at 0x195e66a0>]"
      ]
     },
     "execution_count": 53,
     "metadata": {},
     "output_type": "execute_result"
    },
    {
     "data": {
      "image/png": "[encoded data removed]",
      "text/plain": [
       "<Figure size 432x288 with 1 Axes>"
      ]
     },
     "metadata": {
      "needs_background": "light"
     },
     "output_type": "display_data"
    }
   ],
   "source": [
    "plt.plot(test)\n",
    "plt.plot(predictions, color='red')"
   ]
  },
  {
   "cell_type": "markdown",
   "metadata": {},
   "source": [
    "# Forecasting for NASDAQ.EBAY"
   ]
  },
  {
   "cell_type": "code",
   "execution_count": 7,
   "metadata": {},
   "outputs": [],
   "source": [
    "ds_EBAY = ds[['NASDAQ.EBAY']].copy()"
   ]
  },
  {
   "cell_type": "code",
   "execution_count": 8,
   "metadata": {},
   "outputs": [
    {
     "data": {
      "text/html": [
       "<div>\n",
       "<style scoped>\n",
       "    .dataframe tbody tr th:only-of-type {\n",
       "        vertical-align: middle;\n",
       "    }\n",
       "\n",
       "    .dataframe tbody tr th {\n",
       "        vertical-align: top;\n",
       "    }\n",
       "\n",
       "    .dataframe thead th {\n",
       "        text-align: right;\n",
       "    }\n",
       "</style>\n",
       "<table border=\"1\" class=\"dataframe\">\n",
       "  <thead>\n",
       "    <tr style=\"text-align: right;\">\n",
       "      <th></th>\n",
       "      <th>NASDAQ.EBAY</th>\n",
       "    </tr>\n",
       "    <tr>\n",
       "      <th>DATE</th>\n",
       "      <th></th>\n",
       "    </tr>\n",
       "  </thead>\n",
       "  <tbody>\n",
       "    <tr>\n",
       "      <th>2017-08-31 19:56:00</th>\n",
       "      <td>36.135</td>\n",
       "    </tr>\n",
       "    <tr>\n",
       "      <th>2017-08-31 19:57:00</th>\n",
       "      <td>36.130</td>\n",
       "    </tr>\n",
       "    <tr>\n",
       "      <th>2017-08-31 19:58:00</th>\n",
       "      <td>36.130</td>\n",
       "    </tr>\n",
       "    <tr>\n",
       "      <th>2017-08-31 19:59:00</th>\n",
       "      <td>36.120</td>\n",
       "    </tr>\n",
       "    <tr>\n",
       "      <th>2017-08-31 20:00:00</th>\n",
       "      <td>36.130</td>\n",
       "    </tr>\n",
       "  </tbody>\n",
       "</table>\n",
       "</div>"
      ],
      "text/plain": [
       "                     NASDAQ.EBAY\n",
       "DATE                            \n",
       "2017-08-31 19:56:00       36.135\n",
       "2017-08-31 19:57:00       36.130\n",
       "2017-08-31 19:58:00       36.130\n",
       "2017-08-31 19:59:00       36.120\n",
       "2017-08-31 20:00:00       36.130"
      ]
     },
     "execution_count": 8,
     "metadata": {},
     "output_type": "execute_result"
    }
   ],
   "source": [
    "ds_EBAY.tail()"
   ]
  },
  {
   "cell_type": "code",
   "execution_count": 9,
   "metadata": {},
   "outputs": [
    {
     "data": {
      "text/plain": [
       "NASDAQ.EBAY    41266\n",
       "dtype: int64"
      ]
     },
     "execution_count": 9,
     "metadata": {},
     "output_type": "execute_result"
    }
   ],
   "source": [
    "ds_EBAY.count()"
   ]
  },
  {
   "cell_type": "code",
   "execution_count": 10,
   "metadata": {},
   "outputs": [
    {
     "data": {
      "text/plain": [
       "<matplotlib.axes._subplots.AxesSubplot at 0x8bfcef0>"
      ]
     },
     "execution_count": 10,
     "metadata": {},
     "output_type": "execute_result"
    },
    {
     "data": {
      "image/png": "[encoded data removed]",
      "text/plain": [
       "<Figure size 432x288 with 1 Axes>"
      ]
     },
     "metadata": {
      "needs_background": "light"
     },
     "output_type": "display_data"
    }
   ],
   "source": [
    "ds_EBAY.plot()"
   ]
  },
  {
   "cell_type": "code",
   "execution_count": 11,
   "metadata": {},
   "outputs": [
    {
     "data": {
      "image/png": "[encoded data removed]",
      "text/plain": [
       "<Figure size 432x288 with 1 Axes>"
      ]
     },
     "execution_count": 11,
     "metadata": {},
     "output_type": "execute_result"
    },
    {
     "data": {
      "image/png": "[encoded data removed]",
      "text/plain": [
       "<Figure size 432x288 with 1 Axes>"
      ]
     },
     "metadata": {
      "needs_background": "light"
     },
     "output_type": "display_data"
    }
   ],
   "source": [
    "from statsmodels.graphics.tsaplots import plot_acf\n",
    "plot_acf(ds_EBAY)"
   ]
  },
  {
   "cell_type": "markdown",
   "metadata": {},
   "source": [
    "# Converting series to stationary"
   ]
  },
  {
   "cell_type": "code",
   "execution_count": 12,
   "metadata": {},
   "outputs": [
    {
     "data": {
      "text/html": [
       "<div>\n",
       "<style scoped>\n",
       "    .dataframe tbody tr th:only-of-type {\n",
       "        vertical-align: middle;\n",
       "    }\n",
       "\n",
       "    .dataframe tbody tr th {\n",
       "        vertical-align: top;\n",
       "    }\n",
       "\n",
       "    .dataframe thead th {\n",
       "        text-align: right;\n",
       "    }\n",
       "</style>\n",
       "<table border=\"1\" class=\"dataframe\">\n",
       "  <thead>\n",
       "    <tr style=\"text-align: right;\">\n",
       "      <th></th>\n",
       "      <th>NASDAQ.EBAY</th>\n",
       "    </tr>\n",
       "    <tr>\n",
       "      <th>DATE</th>\n",
       "      <th></th>\n",
       "    </tr>\n",
       "  </thead>\n",
       "  <tbody>\n",
       "    <tr>\n",
       "      <th>2017-04-03 13:30:00</th>\n",
       "      <td>NaN</td>\n",
       "    </tr>\n",
       "    <tr>\n",
       "      <th>2017-04-03 13:31:00</th>\n",
       "      <td>33.3975</td>\n",
       "    </tr>\n",
       "    <tr>\n",
       "      <th>2017-04-03 13:32:00</th>\n",
       "      <td>33.3950</td>\n",
       "    </tr>\n",
       "    <tr>\n",
       "      <th>2017-04-03 13:33:00</th>\n",
       "      <td>33.4100</td>\n",
       "    </tr>\n",
       "    <tr>\n",
       "      <th>2017-04-03 13:34:00</th>\n",
       "      <td>33.3350</td>\n",
       "    </tr>\n",
       "    <tr>\n",
       "      <th>2017-04-03 13:35:00</th>\n",
       "      <td>33.4000</td>\n",
       "    </tr>\n",
       "    <tr>\n",
       "      <th>2017-04-03 13:36:00</th>\n",
       "      <td>33.4300</td>\n",
       "    </tr>\n",
       "    <tr>\n",
       "      <th>2017-04-03 13:37:00</th>\n",
       "      <td>33.4650</td>\n",
       "    </tr>\n",
       "    <tr>\n",
       "      <th>2017-04-03 13:38:00</th>\n",
       "      <td>33.5300</td>\n",
       "    </tr>\n",
       "    <tr>\n",
       "      <th>2017-04-03 13:39:00</th>\n",
       "      <td>33.5650</td>\n",
       "    </tr>\n",
       "    <tr>\n",
       "      <th>2017-04-03 13:40:00</th>\n",
       "      <td>33.6000</td>\n",
       "    </tr>\n",
       "    <tr>\n",
       "      <th>2017-04-03 13:41:00</th>\n",
       "      <td>33.6500</td>\n",
       "    </tr>\n",
       "    <tr>\n",
       "      <th>2017-04-03 13:42:00</th>\n",
       "      <td>33.6900</td>\n",
       "    </tr>\n",
       "    <tr>\n",
       "      <th>2017-04-03 13:43:00</th>\n",
       "      <td>33.7500</td>\n",
       "    </tr>\n",
       "    <tr>\n",
       "      <th>2017-04-03 13:44:00</th>\n",
       "      <td>33.8000</td>\n",
       "    </tr>\n",
       "    <tr>\n",
       "      <th>2017-04-03 13:45:00</th>\n",
       "      <td>33.7900</td>\n",
       "    </tr>\n",
       "    <tr>\n",
       "      <th>2017-04-03 13:46:00</th>\n",
       "      <td>33.7900</td>\n",
       "    </tr>\n",
       "    <tr>\n",
       "      <th>2017-04-03 13:47:00</th>\n",
       "      <td>33.7750</td>\n",
       "    </tr>\n",
       "    <tr>\n",
       "      <th>2017-04-03 13:48:00</th>\n",
       "      <td>33.7600</td>\n",
       "    </tr>\n",
       "    <tr>\n",
       "      <th>2017-04-03 13:49:00</th>\n",
       "      <td>33.7600</td>\n",
       "    </tr>\n",
       "    <tr>\n",
       "      <th>2017-04-03 13:50:00</th>\n",
       "      <td>33.8100</td>\n",
       "    </tr>\n",
       "    <tr>\n",
       "      <th>2017-04-03 13:51:00</th>\n",
       "      <td>33.8100</td>\n",
       "    </tr>\n",
       "    <tr>\n",
       "      <th>2017-04-03 13:52:00</th>\n",
       "      <td>33.7800</td>\n",
       "    </tr>\n",
       "    <tr>\n",
       "      <th>2017-04-03 13:53:00</th>\n",
       "      <td>33.7750</td>\n",
       "    </tr>\n",
       "    <tr>\n",
       "      <th>2017-04-03 13:54:00</th>\n",
       "      <td>33.8150</td>\n",
       "    </tr>\n",
       "    <tr>\n",
       "      <th>2017-04-03 13:55:00</th>\n",
       "      <td>33.8700</td>\n",
       "    </tr>\n",
       "    <tr>\n",
       "      <th>2017-04-03 13:56:00</th>\n",
       "      <td>33.8800</td>\n",
       "    </tr>\n",
       "    <tr>\n",
       "      <th>2017-04-03 13:57:00</th>\n",
       "      <td>33.8200</td>\n",
       "    </tr>\n",
       "    <tr>\n",
       "      <th>2017-04-03 13:58:00</th>\n",
       "      <td>33.8000</td>\n",
       "    </tr>\n",
       "    <tr>\n",
       "      <th>2017-04-03 13:59:00</th>\n",
       "      <td>33.7650</td>\n",
       "    </tr>\n",
       "    <tr>\n",
       "      <th>...</th>\n",
       "      <td>...</td>\n",
       "    </tr>\n",
       "    <tr>\n",
       "      <th>2017-08-31 19:31:00</th>\n",
       "      <td>36.1500</td>\n",
       "    </tr>\n",
       "    <tr>\n",
       "      <th>2017-08-31 19:32:00</th>\n",
       "      <td>36.1500</td>\n",
       "    </tr>\n",
       "    <tr>\n",
       "      <th>2017-08-31 19:33:00</th>\n",
       "      <td>36.1550</td>\n",
       "    </tr>\n",
       "    <tr>\n",
       "      <th>2017-08-31 19:34:00</th>\n",
       "      <td>36.1800</td>\n",
       "    </tr>\n",
       "    <tr>\n",
       "      <th>2017-08-31 19:35:00</th>\n",
       "      <td>36.1850</td>\n",
       "    </tr>\n",
       "    <tr>\n",
       "      <th>2017-08-31 19:36:00</th>\n",
       "      <td>36.2000</td>\n",
       "    </tr>\n",
       "    <tr>\n",
       "      <th>2017-08-31 19:37:00</th>\n",
       "      <td>36.2050</td>\n",
       "    </tr>\n",
       "    <tr>\n",
       "      <th>2017-08-31 19:38:00</th>\n",
       "      <td>36.2250</td>\n",
       "    </tr>\n",
       "    <tr>\n",
       "      <th>2017-08-31 19:39:00</th>\n",
       "      <td>36.2600</td>\n",
       "    </tr>\n",
       "    <tr>\n",
       "      <th>2017-08-31 19:40:00</th>\n",
       "      <td>36.2600</td>\n",
       "    </tr>\n",
       "    <tr>\n",
       "      <th>2017-08-31 19:41:00</th>\n",
       "      <td>36.2600</td>\n",
       "    </tr>\n",
       "    <tr>\n",
       "      <th>2017-08-31 19:42:00</th>\n",
       "      <td>36.2750</td>\n",
       "    </tr>\n",
       "    <tr>\n",
       "      <th>2017-08-31 19:43:00</th>\n",
       "      <td>36.2800</td>\n",
       "    </tr>\n",
       "    <tr>\n",
       "      <th>2017-08-31 19:44:00</th>\n",
       "      <td>36.2850</td>\n",
       "    </tr>\n",
       "    <tr>\n",
       "      <th>2017-08-31 19:45:00</th>\n",
       "      <td>36.3150</td>\n",
       "    </tr>\n",
       "    <tr>\n",
       "      <th>2017-08-31 19:46:00</th>\n",
       "      <td>36.3050</td>\n",
       "    </tr>\n",
       "    <tr>\n",
       "      <th>2017-08-31 19:47:00</th>\n",
       "      <td>36.2750</td>\n",
       "    </tr>\n",
       "    <tr>\n",
       "      <th>2017-08-31 19:48:00</th>\n",
       "      <td>36.2500</td>\n",
       "    </tr>\n",
       "    <tr>\n",
       "      <th>2017-08-31 19:49:00</th>\n",
       "      <td>36.2400</td>\n",
       "    </tr>\n",
       "    <tr>\n",
       "      <th>2017-08-31 19:50:00</th>\n",
       "      <td>36.2000</td>\n",
       "    </tr>\n",
       "    <tr>\n",
       "      <th>2017-08-31 19:51:00</th>\n",
       "      <td>36.1400</td>\n",
       "    </tr>\n",
       "    <tr>\n",
       "      <th>2017-08-31 19:52:00</th>\n",
       "      <td>36.1400</td>\n",
       "    </tr>\n",
       "    <tr>\n",
       "      <th>2017-08-31 19:53:00</th>\n",
       "      <td>36.1300</td>\n",
       "    </tr>\n",
       "    <tr>\n",
       "      <th>2017-08-31 19:54:00</th>\n",
       "      <td>36.1300</td>\n",
       "    </tr>\n",
       "    <tr>\n",
       "      <th>2017-08-31 19:55:00</th>\n",
       "      <td>36.1350</td>\n",
       "    </tr>\n",
       "    <tr>\n",
       "      <th>2017-08-31 19:56:00</th>\n",
       "      <td>36.1300</td>\n",
       "    </tr>\n",
       "    <tr>\n",
       "      <th>2017-08-31 19:57:00</th>\n",
       "      <td>36.1350</td>\n",
       "    </tr>\n",
       "    <tr>\n",
       "      <th>2017-08-31 19:58:00</th>\n",
       "      <td>36.1300</td>\n",
       "    </tr>\n",
       "    <tr>\n",
       "      <th>2017-08-31 19:59:00</th>\n",
       "      <td>36.1300</td>\n",
       "    </tr>\n",
       "    <tr>\n",
       "      <th>2017-08-31 20:00:00</th>\n",
       "      <td>36.1200</td>\n",
       "    </tr>\n",
       "  </tbody>\n",
       "</table>\n",
       "<p>41266 rows × 1 columns</p>\n",
       "</div>"
      ],
      "text/plain": [
       "                     NASDAQ.EBAY\n",
       "DATE                            \n",
       "2017-04-03 13:30:00          NaN\n",
       "2017-04-03 13:31:00      33.3975\n",
       "2017-04-03 13:32:00      33.3950\n",
       "2017-04-03 13:33:00      33.4100\n",
       "2017-04-03 13:34:00      33.3350\n",
       "2017-04-03 13:35:00      33.4000\n",
       "2017-04-03 13:36:00      33.4300\n",
       "2017-04-03 13:37:00      33.4650\n",
       "2017-04-03 13:38:00      33.5300\n",
       "2017-04-03 13:39:00      33.5650\n",
       "2017-04-03 13:40:00      33.6000\n",
       "2017-04-03 13:41:00      33.6500\n",
       "2017-04-03 13:42:00      33.6900\n",
       "2017-04-03 13:43:00      33.7500\n",
       "2017-04-03 13:44:00      33.8000\n",
       "2017-04-03 13:45:00      33.7900\n",
       "2017-04-03 13:46:00      33.7900\n",
       "2017-04-03 13:47:00      33.7750\n",
       "2017-04-03 13:48:00      33.7600\n",
       "2017-04-03 13:49:00      33.7600\n",
       "2017-04-03 13:50:00      33.8100\n",
       "2017-04-03 13:51:00      33.8100\n",
       "2017-04-03 13:52:00      33.7800\n",
       "2017-04-03 13:53:00      33.7750\n",
       "2017-04-03 13:54:00      33.8150\n",
       "2017-04-03 13:55:00      33.8700\n",
       "2017-04-03 13:56:00      33.8800\n",
       "2017-04-03 13:57:00      33.8200\n",
       "2017-04-03 13:58:00      33.8000\n",
       "2017-04-03 13:59:00      33.7650\n",
       "...                          ...\n",
       "2017-08-31 19:31:00      36.1500\n",
       "2017-08-31 19:32:00      36.1500\n",
       "2017-08-31 19:33:00      36.1550\n",
       "2017-08-31 19:34:00      36.1800\n",
       "2017-08-31 19:35:00      36.1850\n",
       "2017-08-31 19:36:00      36.2000\n",
       "2017-08-31 19:37:00      36.2050\n",
       "2017-08-31 19:38:00      36.2250\n",
       "2017-08-31 19:39:00      36.2600\n",
       "2017-08-31 19:40:00      36.2600\n",
       "2017-08-31 19:41:00      36.2600\n",
       "2017-08-31 19:42:00      36.2750\n",
       "2017-08-31 19:43:00      36.2800\n",
       "2017-08-31 19:44:00      36.2850\n",
       "2017-08-31 19:45:00      36.3150\n",
       "2017-08-31 19:46:00      36.3050\n",
       "2017-08-31 19:47:00      36.2750\n",
       "2017-08-31 19:48:00      36.2500\n",
       "2017-08-31 19:49:00      36.2400\n",
       "2017-08-31 19:50:00      36.2000\n",
       "2017-08-31 19:51:00      36.1400\n",
       "2017-08-31 19:52:00      36.1400\n",
       "2017-08-31 19:53:00      36.1300\n",
       "2017-08-31 19:54:00      36.1300\n",
       "2017-08-31 19:55:00      36.1350\n",
       "2017-08-31 19:56:00      36.1300\n",
       "2017-08-31 19:57:00      36.1350\n",
       "2017-08-31 19:58:00      36.1300\n",
       "2017-08-31 19:59:00      36.1300\n",
       "2017-08-31 20:00:00      36.1200\n",
       "\n",
       "[41266 rows x 1 columns]"
      ]
     },
     "execution_count": 12,
     "metadata": {},
     "output_type": "execute_result"
    }
   ],
   "source": [
    "ds_EBAY.shift()"
   ]
  },
  {
   "cell_type": "code",
   "execution_count": 18,
   "metadata": {},
   "outputs": [
    {
     "name": "stdout",
     "output_type": "stream",
     "text": [
      "28886\n",
      "12380\n"
     ]
    }
   ],
   "source": [
    "X = ds_EBAY.values\n",
    "train = X[0:28886] # 27 data as train data\n",
    "test = X[28886:] # 9 data as test data\n",
    "print(train.size)\n",
    "print(test.size)\n",
    "predictions = []"
   ]
  },
  {
   "cell_type": "markdown",
   "metadata": {},
   "source": [
    "# ARIMA Model"
   ]
  },
  {
   "cell_type": "code",
   "execution_count": 19,
   "metadata": {},
   "outputs": [],
   "source": [
    "p=d=q=range(0,6)\n",
    "pdq=list(itertools.product(p,d,q))"
   ]
  },
  {
   "cell_type": "code",
   "execution_count": 20,
   "metadata": {},
   "outputs": [
    {
     "name": "stdout",
     "output_type": "stream",
     "text": [
      "(0, 0, 0) 83955.30612486275\n",
      "(0, 0, 1) 44870.4712539689\n",
      "(0, 0, 2) 10868.508581996532\n",
      "(0, 0, 3) -16163.890333936259\n",
      "(0, 0, 4) -36365.395048963706\n",
      "(0, 0, 5) -52172.39235195969\n",
      "(0, 1, 0) -135861.67620322722\n",
      "(0, 1, 1) -135872.06503249455\n",
      "(0, 1, 2) -135881.64202048111\n",
      "(0, 1, 3) -135879.96802306047\n",
      "(0, 1, 4) -135890.92338632874\n",
      "(0, 1, 5) -135891.29428122332\n",
      "(0, 2, 0) -115231.90591287252\n",
      "(0, 2, 1) -135836.89946555684\n",
      "(1, 0, 0) -135857.40095265277\n",
      "(1, 0, 1) -135867.62575724535\n",
      "(1, 0, 2) -135877.36292601965\n",
      "(1, 0, 3) -135875.6615751708\n",
      "(1, 0, 4) -135886.44796167742\n",
      "(1, 0, 5) -135886.89006181553\n",
      "(1, 1, 0) -135872.54671056976\n",
      "(1, 1, 1) -135876.1491251199\n",
      "(1, 2, 0) -124334.88501038733\n",
      "(1, 2, 1) -135810.09686396865\n",
      "(1, 2, 2) -135827.53289365082\n",
      "(1, 2, 3) -135829.73613712908\n",
      "(1, 2, 4) -135809.67629334977\n",
      "(1, 2, 5) -135828.15645896376\n",
      "(2, 0, 0) -135868.10452360206\n",
      "(2, 0, 1) -135871.73483282494\n",
      "(2, 0, 2) -135875.4610000405\n",
      "(2, 1, 0) -135881.26959517505\n",
      "(2, 1, 1) -135879.2853571144\n",
      "(2, 1, 2) -135892.03907383623\n",
      "(2, 2, 0) -127632.09305033782\n",
      "(2, 2, 1) -135593.75766592345\n",
      "(2, 2, 2) -135851.97666650766\n",
      "(2, 2, 3) -135852.85825691913\n",
      "(2, 2, 4) -135800.1293358655\n",
      "(2, 2, 5) -135781.91104935185\n",
      "(3, 0, 0) -135876.9800755685\n",
      "(3, 0, 1) -135874.9928031304\n",
      "(3, 1, 0) -135879.32085431117\n",
      "(3, 1, 1) -135882.0597310115\n",
      "(3, 1, 2) -135890.4396263337\n",
      "(3, 2, 0) -129229.25108105766\n",
      "(3, 2, 1) -135855.77618909738\n",
      "(3, 2, 2) -135779.77444732928\n",
      "(3, 2, 3) -135854.32286976458\n",
      "(3, 2, 4) -135855.16533477185\n",
      "(3, 2, 5) -135801.74228515493\n",
      "(4, 0, 0) -135875.0210695814\n",
      "(4, 0, 1) -135877.81030139007\n",
      "(4, 1, 0) -135890.7123138145\n",
      "(4, 1, 1) -135889.8893057293\n",
      "(4, 1, 2) -135890.77438350854\n",
      "(4, 1, 3) -135887.1374232986\n",
      "(4, 2, 0) -130556.31608536285\n",
      "(4, 2, 1) -135778.05966451752\n",
      "(4, 2, 2) -135714.97517824994\n",
      "(4, 2, 3) -135804.33497943566\n",
      "(4, 2, 4) -135833.97077291773\n",
      "(4, 2, 5) -135848.3491047768\n",
      "(5, 0, 0) -135886.2419740084\n",
      "(5, 0, 1) -135885.4496104287\n",
      "(5, 0, 2) -135886.36370601773\n",
      "(5, 0, 3) -135882.64357894406\n",
      "(5, 0, 4) -135881.10475540994\n",
      "(5, 1, 0) -135890.48891743593\n",
      "(5, 1, 1) -135886.71393753146\n",
      "(5, 1, 2) -135885.9894027628\n",
      "(5, 1, 3) -135887.0801165682\n",
      "(5, 1, 5) -135899.5356451802\n",
      "(5, 2, 0) -131431.90091915271\n",
      "(5, 2, 1) -135865.85414370662\n",
      "(5, 2, 2) -135758.6453450602\n",
      "(5, 2, 3) -135849.10206414602\n",
      "(5, 2, 4) -135780.75720623485\n",
      "(5, 2, 5) -135800.6785014312\n"
     ]
    }
   ],
   "source": [
    "warnings.filterwarnings('ignore')\n",
    "for param in pdq:\n",
    "    try:\n",
    "        model_arima = ARIMA(train, order=param)\n",
    "        model_arima_fit = model_arima.fit()\n",
    "        print(param,model_arima_fit.aic)\n",
    "    except:\n",
    "        continue"
   ]
  },
  {
   "cell_type": "code",
   "execution_count": 21,
   "metadata": {},
   "outputs": [
    {
     "name": "stdout",
     "output_type": "stream",
     "text": [
      "-129229.25108105766\n"
     ]
    }
   ],
   "source": [
    "model_arima = ARIMA(train, order=(3,2,0))\n",
    "model_arima_fit = model_arima.fit()\n",
    "print(model_arima_fit.aic)"
   ]
  },
  {
   "cell_type": "code",
   "execution_count": 22,
   "metadata": {},
   "outputs": [
    {
     "data": {
      "text/plain": [
       "[<matplotlib.lines.Line2D at 0x8cd2710>]"
      ]
     },
     "execution_count": 22,
     "metadata": {},
     "output_type": "execute_result"
    },
    {
     "data": {
      "image/png": "[encoded data removed]",
      "text/plain": [
       "<Figure size 432x288 with 1 Axes>"
      ]
     },
     "metadata": {
      "needs_background": "light"
     },
     "output_type": "display_data"
    }
   ],
   "source": [
    "plt.plot(test)\n",
    "plt.plot(predictions, color='red')"
   ]
  },
  {
   "cell_type": "code",
   "execution_count": null,
   "metadata": {},
   "outputs": [],
   "source": []
  }
 ],
 "metadata": {
  "kernelspec": {
   "display_name": "Python 3",
   "language": "python",
   "name": "python3"
  },
  "language_info": {
   "codemirror_mode": {
    "name": "ipython",
    "version": 3
   },
   "file_extension": ".py",
   "mimetype": "text/x-python",
   "name": "python",
   "nbconvert_exporter": "python",
   "pygments_lexer": "ipython3",
   "version": "3.7.1"
  }
 },
 "nbformat": 4,
 "nbformat_minor": 2
}
